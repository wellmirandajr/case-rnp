{
 "cells": [
  {
   "cell_type": "markdown",
   "metadata": {
    "application/vnd.databricks.v1+cell": {
     "cellMetadata": {
      "byteLimit": 2048000,
      "rowLimit": 10000
     },
     "inputWidgets": {},
     "nuid": "6ff744a4-39de-4bb9-9b23-1b0272e1cf21",
     "showTitle": false,
     "title": ""
    }
   },
   "source": [
    "###Libs"
   ]
  },
  {
   "cell_type": "code",
   "execution_count": 0,
   "metadata": {
    "application/vnd.databricks.v1+cell": {
     "cellMetadata": {
      "byteLimit": 2048000,
      "rowLimit": 10000
     },
     "inputWidgets": {},
     "nuid": "975a5d61-f5d4-489a-a82e-486646cd81f6",
     "showTitle": false,
     "title": ""
    }
   },
   "outputs": [],
   "source": [
    "from pyspark.sql import SparkSession\n",
    "import pyspark.sql.functions as F\n",
    "import os"
   ]
  },
  {
   "cell_type": "markdown",
   "metadata": {
    "application/vnd.databricks.v1+cell": {
     "cellMetadata": {
      "byteLimit": 2048000,
      "rowLimit": 10000
     },
     "inputWidgets": {},
     "nuid": "7eee818a-610e-42b2-93ff-8cd345845894",
     "showTitle": false,
     "title": ""
    }
   },
   "source": [
    "###Configurações de conexão"
   ]
  },
  {
   "cell_type": "code",
   "execution_count": 0,
   "metadata": {
    "application/vnd.databricks.v1+cell": {
     "cellMetadata": {
      "byteLimit": 2048000,
      "rowLimit": 10000
     },
     "inputWidgets": {},
     "nuid": "f9da91ec-9b65-4d6c-aeb4-103672dd8457",
     "showTitle": false,
     "title": ""
    }
   },
   "outputs": [],
   "source": [
    "host = \"psql-mock-database-cloud.postgres.database.azure.com\"\n",
    "database = \"ecom1692155331663giqokzaqmuqlogbu\"\n",
    "port = \"5432\"\n",
    "username = \"eolowynayhvayxbhluzaqxfp@psql-mock-database-cloud\"\n",
    "password = \"hdzvzutlssuozdonhflhwyjm\"\n",
    "\n",
    "# URL\n",
    "url = f\"jdbc:postgresql://{host}:{port}/{database}\""
   ]
  },
  {
   "cell_type": "code",
   "execution_count": 0,
   "metadata": {
    "application/vnd.databricks.v1+cell": {
     "cellMetadata": {
      "byteLimit": 2048000,
      "rowLimit": 10000
     },
     "inputWidgets": {},
     "nuid": "a827fc92-8282-40fe-9cee-71997fa9f0f9",
     "showTitle": false,
     "title": ""
    }
   },
   "outputs": [],
   "source": [
    "# Inicializando a sessão Spark\n",
    "spark = SparkSession.builder \\\n",
    "    .appName(\"PostgreSQL Connection\") \\\n",
    "    .config(\"spark.jars.packages\", \"org.postgresql:postgresql:42.2.20\") \\\n",
    "    .getOrCreate()"
   ]
  },
  {
   "cell_type": "markdown",
   "metadata": {
    "application/vnd.databricks.v1+cell": {
     "cellMetadata": {
      "byteLimit": 2048000,
      "rowLimit": 10000
     },
     "inputWidgets": {},
     "nuid": "619901d7-d057-474d-9e6b-1cf1f6faa6e7",
     "showTitle": false,
     "title": ""
    }
   },
   "source": [
    "###Acessando ao Banco"
   ]
  },
  {
   "cell_type": "code",
   "execution_count": 0,
   "metadata": {
    "application/vnd.databricks.v1+cell": {
     "cellMetadata": {
      "byteLimit": 2048000,
      "rowLimit": 10000
     },
     "inputWidgets": {},
     "nuid": "70e5c092-c7ce-42a4-9be6-c4711efd85cc",
     "showTitle": false,
     "title": ""
    }
   },
   "outputs": [
    {
     "output_type": "stream",
     "name": "stdout",
     "output_type": "stream",
     "text": [
      "+------------------+\n|        table_name|\n+------------------+\n|         customers|\n|         employees|\n|           offices|\n|      orderdetails|\n|            orders|\n|          payments|\n|     product_lines|\n|          products|\n|pg_stat_statements|\n|    pg_buffercache|\n+------------------+\n\n"
     ]
    }
   ],
   "source": [
    "tables_df = spark.read.format(\"jdbc\") \\\n",
    "    .option(\"url\", url) \\\n",
    "    .option(\"dbtable\", \"(SELECT table_name FROM information_schema.tables WHERE table_schema = 'public') as tables\") \\\n",
    "    .option(\"user\", username) \\\n",
    "    .option(\"password\", password) \\\n",
    "    .load()\n",
    "\n",
    "# Exibindo as tabelas\n",
    "tables_df.show()"
   ]
  },
  {
   "cell_type": "markdown",
   "metadata": {
    "application/vnd.databricks.v1+cell": {
     "cellMetadata": {
      "byteLimit": 2048000,
      "rowLimit": 10000
     },
     "inputWidgets": {},
     "nuid": "f1ede4f8-c577-4398-906b-f66a5415e02e",
     "showTitle": false,
     "title": ""
    }
   },
   "source": [
    "###Realizando discovery da tabela Customers"
   ]
  },
  {
   "cell_type": "code",
   "execution_count": 0,
   "metadata": {
    "application/vnd.databricks.v1+cell": {
     "cellMetadata": {
      "byteLimit": 2048000,
      "rowLimit": 10000
     },
     "inputWidgets": {},
     "nuid": "4bf1046d-b7b5-4805-9a7a-392dbbe3ea75",
     "showTitle": false,
     "title": ""
    }
   },
   "outputs": [],
   "source": [
    "# Lendo dados do banco de dados\n",
    "customers_jdbc = spark.read.format(\"jdbc\") \\\n",
    "    .option(\"url\", url) \\\n",
    "    .option(\"dbtable\", \"customers\") \\\n",
    "    .option(\"user\", username) \\\n",
    "    .option(\"password\", password) \\\n",
    "    .load()"
   ]
  },
  {
   "cell_type": "code",
   "execution_count": 0,
   "metadata": {
    "application/vnd.databricks.v1+cell": {
     "cellMetadata": {
      "byteLimit": 2048000,
      "rowLimit": 10000
     },
     "inputWidgets": {},
     "nuid": "d6a5a42f-a29f-441d-85ee-7b9398d2cc87",
     "showTitle": false,
     "title": ""
    }
   },
   "outputs": [
    {
     "output_type": "display_data",
     "data": {
      "text/html": [
       "<style scoped>\n",
       "  .table-result-container {\n",
       "    max-height: 300px;\n",
       "    overflow: auto;\n",
       "  }\n",
       "  table, th, td {\n",
       "    border: 1px solid black;\n",
       "    border-collapse: collapse;\n",
       "  }\n",
       "  th, td {\n",
       "    padding: 5px;\n",
       "  }\n",
       "  th {\n",
       "    text-align: left;\n",
       "  }\n",
       "</style><div class='table-result-container'><table class='table-result'><thead style='background-color: white'><tr><th>customer_number</th><th>customer_name</th><th>contact_last_name</th><th>contact_first_name</th><th>phone</th><th>address_line1</th><th>address_line2</th><th>city</th><th>state</th><th>postal_code</th><th>country</th><th>sales_rep_employee_number</th><th>credit_limit</th></tr></thead><tbody><tr><td>103</td><td>Jake</td><td>King</td><td>Carine </td><td>40.32.2555</td><td>54, rue Royale</td><td>null</td><td>Nantes</td><td>Victoria</td><td>44000</td><td>France</td><td>1370</td><td>21000.00</td></tr><tr><td>112</td><td>Signal Gift Store</td><td>King</td><td>Jean</td><td>7025551838</td><td>8489 Strong St.</td><td>null</td><td>Las Vegas</td><td>New York</td><td>83030</td><td>USA</td><td>1166</td><td>71800.00</td></tr><tr><td>114</td><td>Australian Collectors, Co.</td><td>Ferguson</td><td>Peter Sr.</td><td>03 9520 4555</td><td>636 St Kilda Road</td><td>Level 3</td><td>Melbourne</td><td>Victoria</td><td>3004</td><td>Australia</td><td>1611</td><td>117300.00</td></tr><tr><td>119</td><td>La Rochelle Gifts</td><td>Labrune</td><td>Janine </td><td>40.67.8555</td><td>67, rue des Cinquante Otages</td><td>null</td><td>Nantes</td><td>null</td><td>44000</td><td>France</td><td>1370</td><td>118200.00</td></tr><tr><td>121</td><td>Baane Mini Imports</td><td>Bergulfsen</td><td>Jonas </td><td>07-98 9555</td><td>Erling Skakkes gate 78</td><td>null</td><td>Stavern</td><td>null</td><td>4110</td><td>Norway</td><td>1504</td><td>81700.00</td></tr><tr><td>124</td><td>Mini Gifts Distributors Ltd.</td><td>Nelson</td><td>Susan</td><td>4155551450</td><td>5677 Strong St.</td><td>null</td><td>San Rafael</td><td>CA</td><td>97562</td><td>USA</td><td>1165</td><td>210500.00</td></tr><tr><td>125</td><td>Havel & Zbyszek Co</td><td>Piestrzeniewicz</td><td>Zbyszek </td><td>(26) 642-7555</td><td>ul. Filtrowa 68</td><td>null</td><td>Warszawa</td><td>null</td><td>01-012</td><td>Poland</td><td>null</td><td>0.00</td></tr><tr><td>128</td><td>Blauer See Auto, Co.</td><td>Keitel</td><td>Roland</td><td>+49 69 66 90 2555</td><td>Lyonerstr. 34</td><td>null</td><td>Frankfurt</td><td>null</td><td>60528</td><td>Germany</td><td>1504</td><td>59700.00</td></tr><tr><td>129</td><td>Mini Wheels Co.</td><td>Murphy</td><td>Julie</td><td>6505555787</td><td>5557 North Pendale Street</td><td>null</td><td>San Francisco</td><td>CA</td><td>94217</td><td>USA</td><td>1165</td><td>64600.00</td></tr><tr><td>131</td><td>Land of Toys Inc.</td><td>Lee</td><td>Kwai</td><td>2125557818</td><td>897 Long Airport Avenue</td><td>null</td><td>NYC</td><td>NY</td><td>10022</td><td>USA</td><td>1323</td><td>114900.00</td></tr><tr><td>141</td><td>Euro+ Shopping Channel</td><td>Freyre</td><td>Diego </td><td>(91) 555 94 44</td><td>C/ Moralzarzal, 86</td><td>null</td><td>Madrid</td><td>null</td><td>28034</td><td>Spain</td><td>1370</td><td>227600.00</td></tr><tr><td>144</td><td>Volvo Model Replicas, Co</td><td>Berglund</td><td>Christina </td><td>0921-12 3555</td><td>Berguvsv�gen  8</td><td>null</td><td>Lule�</td><td>null</td><td>S-958 22</td><td>Sweden</td><td>1504</td><td>53100.00</td></tr><tr><td>145</td><td>Danish Wholesale Imports</td><td>Petersen</td><td>Jytte </td><td>31 12 3555</td><td>Vinb�ltet 34</td><td>null</td><td>Kobenhavn</td><td>null</td><td>1734</td><td>Denmark</td><td>1401</td><td>83400.00</td></tr><tr><td>146</td><td>Saveley & Henriot, Co.</td><td>Saveley</td><td>Mary </td><td>78.32.5555</td><td>2, rue du Commerce</td><td>null</td><td>Lyon</td><td>null</td><td>69004</td><td>France</td><td>1337</td><td>123900.00</td></tr><tr><td>148</td><td>Dragon Souveniers, Ltd.</td><td>Natividad</td><td>Eric</td><td>+65 221 7555</td><td>Bronz Sok.</td><td>Bronz Apt. 3/6 Tesvikiye</td><td>Singapore</td><td>null</td><td>079903</td><td>Singapore</td><td>1621</td><td>103800.00</td></tr><tr><td>151</td><td>Muscle Machine Inc</td><td>Young</td><td>Jeff</td><td>2125557413</td><td>4092 Furth Circle</td><td>Suite 400</td><td>NYC</td><td>NY</td><td>10022</td><td>USA</td><td>1286</td><td>138500.00</td></tr><tr><td>157</td><td>Diecast Classics Inc.</td><td>Leong</td><td>Kelvin</td><td>2155551555</td><td>7586 Pompton St.</td><td>null</td><td>Allentown</td><td>PA</td><td>70267</td><td>USA</td><td>1216</td><td>100600.00</td></tr><tr><td>161</td><td>Technics Stores Inc.</td><td>Hashimoto</td><td>Juri</td><td>6505556809</td><td>9408 Furth Circle</td><td>null</td><td>Burlingame</td><td>CA</td><td>94217</td><td>USA</td><td>1165</td><td>84600.00</td></tr><tr><td>166</td><td>Handji Gifts& Co</td><td>Victorino</td><td>Wendy</td><td>+65 224 1555</td><td>106 Linden Road Sandown</td><td>2nd Floor</td><td>Singapore</td><td>null</td><td>069045</td><td>Singapore</td><td>1612</td><td>97900.00</td></tr><tr><td>167</td><td>Herkku Gifts</td><td>Oeztan</td><td>Veysel</td><td>+47 2267 3215</td><td>Brehmen St. 121</td><td>PR 334 Sentrum</td><td>Bergen</td><td>null</td><td>N 5804</td><td>Norway  </td><td>1504</td><td>96800.00</td></tr><tr><td>168</td><td>American Souvenirs Inc</td><td>Franco</td><td>Keith</td><td>2035557845</td><td>149 Spinnaker Dr.</td><td>Suite 101</td><td>New Haven</td><td>CT</td><td>97823</td><td>USA</td><td>1286</td><td>0.00</td></tr><tr><td>169</td><td>Porto Imports Co.</td><td>de Castro</td><td>Isabel </td><td>(1) 356-5555</td><td>Estrada da sa�de n. 58</td><td>null</td><td>Lisboa</td><td>null</td><td>1756</td><td>Portugal</td><td>null</td><td>0.00</td></tr><tr><td>171</td><td>Daedalus Designs Imports</td><td>Ranc�</td><td>Martine </td><td>20.16.1555</td><td>184, chauss�e de Tournai</td><td>null</td><td>Lille</td><td>null</td><td>59000</td><td>France</td><td>1370</td><td>82900.00</td></tr><tr><td>172</td><td>La Corne D'abondance, Co.</td><td>Bertrand</td><td>Marie</td><td>(1) 42.34.2555</td><td>265, boulevard Charonne</td><td>null</td><td>Paris</td><td>null</td><td>75012</td><td>France</td><td>1337</td><td>84300.00</td></tr><tr><td>173</td><td>Cambridge Collectables Co.</td><td>Tseng</td><td>Jerry</td><td>6175555555</td><td>4658 Baden Av.</td><td>null</td><td>Cambridge</td><td>MA</td><td>51247</td><td>USA</td><td>1188</td><td>43400.00</td></tr><tr><td>175</td><td>Gift Depot Inc.</td><td>King</td><td>Julie</td><td>2035552570</td><td>25593 South Bay Ln.</td><td>null</td><td>Bridgewater</td><td>CT</td><td>97562</td><td>USA</td><td>1323</td><td>84300.00</td></tr><tr><td>177</td><td>Osaka Souveniers Co.</td><td>Kentary</td><td>Mory</td><td>+81 06 6342 5555</td><td>1-6-20 Dojima</td><td>null</td><td>Kita-ku</td><td>Osaka</td><td> 530-0003</td><td>Japan</td><td>1621</td><td>81200.00</td></tr><tr><td>181</td><td>Vitachrome Inc.</td><td>Frick</td><td>Michael</td><td>2125551500</td><td>2678 Kingston Rd.</td><td>Suite 101</td><td>NYC</td><td>NY</td><td>10022</td><td>USA</td><td>1286</td><td>76400.00</td></tr><tr><td>186</td><td>Toys of Finland, Co.</td><td>Karttunen</td><td>Matti</td><td>90-224 8555</td><td>Keskuskatu 45</td><td>null</td><td>Helsinki</td><td>null</td><td>21240</td><td>Finland</td><td>1501</td><td>96500.00</td></tr><tr><td>187</td><td>AV Stores, Co.</td><td>Ashworth</td><td>Rachel</td><td>(171) 555-1555</td><td>Fauntleroy Circus</td><td>null</td><td>Manchester</td><td>null</td><td>EC2 5NT</td><td>UK</td><td>1501</td><td>136800.00</td></tr><tr><td>189</td><td>Clover Collections, Co.</td><td>Cassidy</td><td>Dean</td><td>+353 1862 1555</td><td>25 Maiden Lane</td><td>Floor No. 4</td><td>Dublin</td><td>null</td><td>2</td><td>Ireland</td><td>1504</td><td>69400.00</td></tr><tr><td>198</td><td>Auto-Moto Classics Inc.</td><td>Taylor</td><td>Leslie</td><td>6175558428</td><td>16780 Pompton St.</td><td>null</td><td>Brickhaven</td><td>MA</td><td>58339</td><td>USA</td><td>1216</td><td>23000.00</td></tr><tr><td>201</td><td>UK Collectables, Ltd.</td><td>Devon</td><td>Elizabeth</td><td>(171) 555-2282</td><td>12, Berkeley Gardens Blvd</td><td>null</td><td>Liverpool</td><td>null</td><td>WX1 6LT</td><td>UK</td><td>1501</td><td>92700.00</td></tr><tr><td>202</td><td>Canadian Gift Exchange Network</td><td>Tamuri</td><td>Yoshi </td><td>(604) 555-3392</td><td>1900 Oak St.</td><td>null</td><td>Vancouver</td><td>BC</td><td>V3F 2K1</td><td>Canada</td><td>1323</td><td>90300.00</td></tr><tr><td>204</td><td>Online Mini Collectables</td><td>Barajas</td><td>Miguel</td><td>6175557555</td><td>7635 Spinnaker Dr.</td><td>null</td><td>Brickhaven</td><td>MA</td><td>58339</td><td>USA</td><td>1188</td><td>68700.00</td></tr><tr><td>205</td><td>Toys4GrownUps.com</td><td>Young</td><td>Julie</td><td>6265557265</td><td>78934 Hillside Dr.</td><td>null</td><td>Pasadena</td><td>CA</td><td>90003</td><td>USA</td><td>1166</td><td>90700.00</td></tr><tr><td>206</td><td>Asian Shopping Network, Co</td><td>Walker</td><td>Brydey</td><td>+612 9411 1555</td><td>Suntec Tower Three</td><td>8 Temasek</td><td>Singapore</td><td>null</td><td>038988</td><td>Singapore</td><td>null</td><td>0.00</td></tr><tr><td>209</td><td>Mini Caravy</td><td>Citeaux</td><td>Fr�d�rique </td><td>88.60.1555</td><td>24, place Kl�ber</td><td>null</td><td>Strasbourg</td><td>null</td><td>67000</td><td>France</td><td>1370</td><td>53800.00</td></tr><tr><td>211</td><td>King Kong Collectables, Co.</td><td>Gao</td><td>Mike</td><td>+852 2251 1555</td><td>Bank of China Tower</td><td>1 Garden Road</td><td>Central Hong Kong</td><td>null</td><td>null</td><td>Hong Kong</td><td>1621</td><td>58600.00</td></tr><tr><td>216</td><td>Enaco Distributors</td><td>Saavedra</td><td>Eduardo </td><td>(93) 203 4555</td><td>Rambla de Catalu�a, 23</td><td>null</td><td>Barcelona</td><td>null</td><td>08022</td><td>Spain</td><td>1702</td><td>60300.00</td></tr><tr><td>219</td><td>Boards & Toys Co.</td><td>Young</td><td>Mary</td><td>3105552373</td><td>4097 Douglas Av.</td><td>null</td><td>Glendale</td><td>CA</td><td>92561</td><td>USA</td><td>1166</td><td>11000.00</td></tr><tr><td>223</td><td>Nat�rlich Autos</td><td>Kloss</td><td>Horst </td><td>0372-555188</td><td>Taucherstra�e 10</td><td>null</td><td>Cunewalde</td><td>null</td><td>01307</td><td>Germany</td><td>null</td><td>0.00</td></tr><tr><td>227</td><td>Heintze Collectables</td><td>Ibsen</td><td>Palle</td><td>86 21 3555</td><td>Smagsloget 45</td><td>null</td><td>�rhus</td><td>null</td><td>8200</td><td>Denmark</td><td>1401</td><td>120800.00</td></tr><tr><td>233</td><td>Qu�bec Home Shopping Network</td><td>Fresni�re</td><td>Jean </td><td>(514) 555-8054</td><td>43 rue St. Laurent</td><td>null</td><td>Montr�al</td><td>Qu�bec</td><td>H1J 1C3</td><td>Canada</td><td>1286</td><td>48700.00</td></tr><tr><td>237</td><td>ANG Resellers</td><td>Camino</td><td>Alejandra </td><td>(91) 745 6555</td><td>Gran V�a, 1</td><td>null</td><td>Madrid</td><td>null</td><td>28001</td><td>Spain</td><td>null</td><td>0.00</td></tr><tr><td>239</td><td>Collectable Mini Designs Co.</td><td>Thompson</td><td>Valarie</td><td>7605558146</td><td>361 Furth Circle</td><td>null</td><td>San Diego</td><td>CA</td><td>91217</td><td>USA</td><td>1166</td><td>105000.00</td></tr><tr><td>240</td><td>giftsbymail.co.uk</td><td>Bennett</td><td>Helen </td><td>(198) 555-8888</td><td>Garden House</td><td>Crowther Way 23</td><td>Cowes</td><td>Isle of Wight</td><td>PO31 7PJ</td><td>UK</td><td>1501</td><td>93900.00</td></tr><tr><td>242</td><td>Alpha Cognac</td><td>Roulet</td><td>Annette </td><td>61.77.6555</td><td>1 rue Alsace-Lorraine</td><td>null</td><td>Toulouse</td><td>null</td><td>31000</td><td>France</td><td>1370</td><td>61100.00</td></tr><tr><td>247</td><td>Messner Shopping Network</td><td>Messner</td><td>Renate </td><td>069-0555984</td><td>Magazinweg 7</td><td>null</td><td>Frankfurt</td><td>null</td><td>60528</td><td>Germany</td><td>null</td><td>0.00</td></tr><tr><td>249</td><td>Amica Models & Co.</td><td>Accorti</td><td>Paolo </td><td>011-4988555</td><td>Via Monte Bianco 34</td><td>null</td><td>Torino</td><td>null</td><td>10100</td><td>Italy</td><td>1401</td><td>113000.00</td></tr><tr><td>250</td><td>Lyon Souveniers</td><td>Da Silva</td><td>Daniel</td><td>+33 1 46 62 7555</td><td>27 rue du Colonel Pierre Avia</td><td>null</td><td>Paris</td><td>null</td><td>75508</td><td>France</td><td>1337</td><td>68100.00</td></tr><tr><td>256</td><td>Auto Associ�s & Cie.</td><td>Tonini</td><td>Daniel </td><td>30.59.8555</td><td>67, avenue de l'Europe</td><td>null</td><td>Versailles</td><td>null</td><td>78000</td><td>France</td><td>1370</td><td>77900.00</td></tr><tr><td>259</td><td>Toms Spezialit�ten, Ltd</td><td>Pfalzheim</td><td>Henriette </td><td>0221-5554327</td><td>Mehrheimerstr. 369</td><td>null</td><td>K�ln</td><td>null</td><td>50739</td><td>Germany</td><td>1504</td><td>120400.00</td></tr><tr><td>260</td><td>Royal Canadian Collectables, Ltd.</td><td>Lincoln</td><td>Elizabeth </td><td>(604) 555-4555</td><td>23 Tsawassen Blvd.</td><td>null</td><td>Tsawassen</td><td>BC</td><td>T2F 8M4</td><td>Canada</td><td>1323</td><td>89600.00</td></tr><tr><td>273</td><td>Franken Gifts, Co</td><td>Franken</td><td>Peter </td><td>089-0877555</td><td>Berliner Platz 43</td><td>null</td><td>M�nchen</td><td>null</td><td>80805</td><td>Germany</td><td>null</td><td>0.00</td></tr><tr><td>276</td><td>Anna's Decorations, Ltd</td><td>O'Hara</td><td>Anna</td><td>02 9936 8555</td><td>201 Miller Street</td><td>Level 15</td><td>North Sydney</td><td>NSW</td><td>2060</td><td>Australia</td><td>1611</td><td>107800.00</td></tr><tr><td>278</td><td>Rovelli Gifts</td><td>Rovelli</td><td>Giovanni </td><td>035-640555</td><td>Via Ludovico il Moro 22</td><td>null</td><td>Bergamo</td><td>null</td><td>24100</td><td>Italy</td><td>1401</td><td>119600.00</td></tr><tr><td>282</td><td>Souveniers And Things Co.</td><td>Huxley</td><td>Adrian</td><td>+61 2 9495 8555</td><td>Monitor Money Building</td><td>815 Pacific Hwy</td><td>Chatswood</td><td>NSW</td><td>2067</td><td>Australia</td><td>1611</td><td>93300.00</td></tr><tr><td>286</td><td>Marta's Replicas Co.</td><td>Hernandez</td><td>Marta</td><td>6175558555</td><td>39323 Spinnaker Dr.</td><td>null</td><td>Cambridge</td><td>MA</td><td>51247</td><td>USA</td><td>1216</td><td>123700.00</td></tr><tr><td>293</td><td>BG&E Collectables</td><td>Harrison</td><td>Ed</td><td>+41 26 425 50 01</td><td>Rte des Arsenaux 41 </td><td>null</td><td>Fribourg</td><td>null</td><td>1700</td><td>Switzerland</td><td>null</td><td>0.00</td></tr><tr><td>298</td><td>Vida Sport, Ltd</td><td>Holz</td><td>Mihael</td><td>0897-034555</td><td>Grenzacherweg 237</td><td>null</td><td>Gen�ve</td><td>null</td><td>1203</td><td>Switzerland</td><td>1702</td><td>141300.00</td></tr><tr><td>299</td><td>Norway Gifts By Mail, Co.</td><td>Klaeboe</td><td>Jan</td><td>+47 2212 1555</td><td>Drammensveien 126A</td><td>PB 211 Sentrum</td><td>Oslo</td><td>null</td><td>N 0106</td><td>Norway  </td><td>1504</td><td>95100.00</td></tr><tr><td>303</td><td>Schuyler Imports</td><td>Schuyler</td><td>Bradley</td><td>+31 20 491 9555</td><td>Kingsfordweg 151</td><td>null</td><td>Amsterdam</td><td>null</td><td>1043 GR</td><td>Netherlands</td><td>null</td><td>0.00</td></tr><tr><td>307</td><td>Der Hund Imports</td><td>Andersen</td><td>Mel</td><td>030-0074555</td><td>Obere Str. 57</td><td>null</td><td>Berlin</td><td>null</td><td>12209</td><td>Germany</td><td>null</td><td>0.00</td></tr><tr><td>311</td><td>Oulu Toy Supplies, Inc.</td><td>Koskitalo</td><td>Pirkko</td><td>981-443655</td><td>Torikatu 38</td><td>null</td><td>Oulu</td><td>null</td><td>90110</td><td>Finland</td><td>1501</td><td>90500.00</td></tr><tr><td>314</td><td>Petit Auto</td><td>Dewey</td><td>Catherine </td><td>(02) 5554 67</td><td>Rue Joseph-Bens 532</td><td>null</td><td>Bruxelles</td><td>null</td><td>B-1180</td><td>Belgium</td><td>1401</td><td>79900.00</td></tr><tr><td>319</td><td>Mini Classics</td><td>Frick</td><td>Steve</td><td>9145554562</td><td>3758 North Pendale Street</td><td>null</td><td>White Plains</td><td>NY</td><td>24067</td><td>USA</td><td>1323</td><td>102700.00</td></tr><tr><td>320</td><td>Mini Creations Ltd.</td><td>Huang</td><td>Wing</td><td>5085559555</td><td>4575 Hillside Dr.</td><td>null</td><td>New Bedford</td><td>MA</td><td>50553</td><td>USA</td><td>1188</td><td>94500.00</td></tr><tr><td>321</td><td>Corporate Gift Ideas Co.</td><td>Brown</td><td>Julie</td><td>6505551386</td><td>7734 Strong St.</td><td>null</td><td>San Francisco</td><td>CA</td><td>94217</td><td>USA</td><td>1165</td><td>105000.00</td></tr><tr><td>323</td><td>Down Under Souveniers, Inc</td><td>Graham</td><td>Mike</td><td>+64 9 312 5555</td><td>162-164 Grafton Road</td><td>Level 2</td><td>Auckland  </td><td>null</td><td>null</td><td>New Zealand</td><td>1612</td><td>88000.00</td></tr><tr><td>324</td><td>Stylish Desk Decors, Co.</td><td>Brown</td><td>Ann </td><td>(171) 555-0297</td><td>35 King George</td><td>null</td><td>London</td><td>null</td><td>WX3 6FW</td><td>UK</td><td>1501</td><td>77000.00</td></tr><tr><td>328</td><td>Tekni Collectables Inc.</td><td>Brown</td><td>William</td><td>2015559350</td><td>7476 Moss Rd.</td><td>null</td><td>Newark</td><td>NJ</td><td>94019</td><td>USA</td><td>1323</td><td>43000.00</td></tr><tr><td>333</td><td>Australian Gift Network, Co</td><td>Calaghan</td><td>Ben</td><td>61-7-3844-6555</td><td>31 Duncan St. West End</td><td>null</td><td>South Brisbane</td><td>Queensland</td><td>4101</td><td>Australia</td><td>1611</td><td>51600.00</td></tr><tr><td>334</td><td>Suominen Souveniers</td><td>Suominen</td><td>Kalle</td><td>+358 9 8045 555</td><td>Software Engineering Center</td><td>SEC Oy</td><td>Espoo</td><td>null</td><td>FIN-02271</td><td>Finland</td><td>1501</td><td>98800.00</td></tr><tr><td>335</td><td>Cramer Spezialit�ten, Ltd</td><td>Cramer</td><td>Philip </td><td>0555-09555</td><td>Maubelstr. 90</td><td>null</td><td>Brandenburg</td><td>null</td><td>14776</td><td>Germany</td><td>null</td><td>0.00</td></tr><tr><td>339</td><td>Classic Gift Ideas, Inc</td><td>Cervantes</td><td>Francisca</td><td>2155554695</td><td>782 First Street</td><td>null</td><td>Philadelphia</td><td>PA</td><td>71270</td><td>USA</td><td>1188</td><td>81100.00</td></tr><tr><td>344</td><td>CAF Imports</td><td>Fernandez</td><td>Jesus</td><td>+34 913 728 555</td><td>Merchants House</td><td>27-30 Merchant's Quay</td><td>Madrid</td><td>null</td><td>28023</td><td>Spain</td><td>1702</td><td>59600.00</td></tr><tr><td>347</td><td>Men 'R' US Retailers, Ltd.</td><td>Chandler</td><td>Brian</td><td>2155554369</td><td>6047 Douglas Av.</td><td>null</td><td>Los Angeles</td><td>CA</td><td>91003</td><td>USA</td><td>1166</td><td>57700.00</td></tr><tr><td>348</td><td>Asian Treasures, Inc.</td><td>McKenna</td><td>Patricia </td><td>2967 555</td><td>8 Johnstown Road</td><td>null</td><td>Cork</td><td>Co. Cork</td><td>null</td><td>Ireland</td><td>null</td><td>0.00</td></tr><tr><td>350</td><td>Marseille Mini Autos</td><td>Lebihan</td><td>Laurence </td><td>91.24.4555</td><td>12, rue des Bouchers</td><td>null</td><td>Marseille</td><td>null</td><td>13008</td><td>France</td><td>1337</td><td>65000.00</td></tr><tr><td>353</td><td>Reims Collectables</td><td>Henriot</td><td>Paul </td><td>26.47.1555</td><td>59 rue de l'Abbaye</td><td>null</td><td>Reims</td><td>null</td><td>51100</td><td>France</td><td>1337</td><td>81100.00</td></tr><tr><td>356</td><td>SAR Distributors, Co</td><td>Kuger</td><td>Armand</td><td>+27 21 550 3555</td><td>1250 Pretorius Street</td><td>null</td><td>Hatfield</td><td>Pretoria</td><td>0028</td><td>South Africa</td><td>null</td><td>0.00</td></tr><tr><td>357</td><td>GiftsForHim.com</td><td>MacKinlay</td><td>Wales</td><td>64-9-3763555</td><td>199 Great North Road</td><td>null</td><td>Auckland</td><td>null</td><td>null</td><td>New Zealand</td><td>1612</td><td>77700.00</td></tr><tr><td>361</td><td>Kommission Auto</td><td>Josephs</td><td>Karin</td><td>0251-555259</td><td>Luisenstr. 48</td><td>null</td><td>M�nster</td><td>null</td><td>44087</td><td>Germany</td><td>null</td><td>0.00</td></tr><tr><td>362</td><td>Gifts4AllAges.com</td><td>Yoshido</td><td>Juri</td><td>6175559555</td><td>8616 Spinnaker Dr.</td><td>null</td><td>Boston</td><td>MA</td><td>51003</td><td>USA</td><td>1216</td><td>41900.00</td></tr><tr><td>363</td><td>Online Diecast Creations Co.</td><td>Young</td><td>Dorothy</td><td>6035558647</td><td>2304 Long Airport Avenue</td><td>null</td><td>Nashua</td><td>NH</td><td>62005</td><td>USA</td><td>1216</td><td>114200.00</td></tr><tr><td>369</td><td>Lisboa Souveniers, Inc</td><td>Rodriguez</td><td>Lino </td><td>(1) 354-2555</td><td>Jardim das rosas n. 32</td><td>null</td><td>Lisboa</td><td>null</td><td>1675</td><td>Portugal</td><td>null</td><td>0.00</td></tr><tr><td>376</td><td>Precious Collectables</td><td>Urs</td><td>Braun</td><td>0452-076555</td><td>Hauptstr. 29</td><td>null</td><td>Bern</td><td>null</td><td>3012</td><td>Switzerland</td><td>1702</td><td>0.00</td></tr><tr><td>379</td><td>Collectables For Less Inc.</td><td>Nelson</td><td>Allen</td><td>6175558555</td><td>7825 Douglas Av.</td><td>null</td><td>Brickhaven</td><td>MA</td><td>58339</td><td>USA</td><td>1188</td><td>70700.00</td></tr><tr><td>381</td><td>Royale Belge</td><td>Cartrain</td><td>Pascale </td><td>(071) 23 67 2555</td><td>Boulevard Tirou, 255</td><td>null</td><td>Charleroi</td><td>null</td><td>B-6000</td><td>Belgium</td><td>1401</td><td>23500.00</td></tr><tr><td>382</td><td>Salzburg Collectables</td><td>Pipps</td><td>Georg </td><td>6562-9555</td><td>Geislweg 14</td><td>null</td><td>Salzburg</td><td>null</td><td>5020</td><td>Austria</td><td>1401</td><td>71700.00</td></tr><tr><td>385</td><td>Cruz & Sons Co.</td><td>Cruz</td><td>Arnold</td><td>+63 2 555 3587</td><td>15 McCallum Street</td><td>NatWest Center #13-03</td><td>Makati City</td><td>null</td><td>1227 MM</td><td>Philippines</td><td>1621</td><td>81500.00</td></tr><tr><td>386</td><td>L'ordine Souveniers</td><td>Moroni</td><td>Maurizio </td><td>0522-556555</td><td>Strada Provinciale 124</td><td>null</td><td>Reggio Emilia</td><td>null</td><td>42100</td><td>Italy</td><td>1401</td><td>121400.00</td></tr><tr><td>398</td><td>Tokyo Collectables, Ltd</td><td>Shimamura</td><td>Akiko</td><td>+81 3 3584 0555</td><td>2-2-8 Roppongi</td><td>null</td><td>Minato-ku</td><td>Tokyo</td><td>106-0032</td><td>Japan</td><td>1621</td><td>94400.00</td></tr><tr><td>406</td><td>Auto Canal+ Petit</td><td>Perrier</td><td>Dominique</td><td>(1) 47.55.6555</td><td>25, rue Lauriston</td><td>null</td><td>Paris</td><td>null</td><td>75016</td><td>France</td><td>1337</td><td>95000.00</td></tr><tr><td>409</td><td>Stuttgart Collectable Exchange</td><td>M�ller</td><td>Rita </td><td>0711-555361</td><td>Adenauerallee 900</td><td>null</td><td>Stuttgart</td><td>null</td><td>70563</td><td>Germany</td><td>null</td><td>0.00</td></tr><tr><td>412</td><td>Extreme Desk Decorations, Ltd</td><td>McRoy</td><td>Sarah</td><td>04 499 9555</td><td>101 Lambton Quay</td><td>Level 11</td><td>Wellington</td><td>null</td><td>null</td><td>New Zealand</td><td>1612</td><td>86800.00</td></tr><tr><td>415</td><td>Bavarian Collectables Imports, Co.</td><td>Donnermeyer</td><td>Michael</td><td> +49 89 61 08 9555</td><td>Hansastr. 15</td><td>null</td><td>Munich</td><td>null</td><td>80686</td><td>Germany</td><td>1504</td><td>77000.00</td></tr><tr><td>424</td><td>Classic Legends Inc.</td><td>Hernandez</td><td>Maria</td><td>2125558493</td><td>5905 Pompton St.</td><td>Suite 750</td><td>NYC</td><td>NY</td><td>10022</td><td>USA</td><td>1286</td><td>67500.00</td></tr><tr><td>443</td><td>Feuer Online Stores, Inc</td><td>Feuer</td><td>Alexander </td><td>0342-555176</td><td>Heerstr. 22</td><td>null</td><td>Leipzig</td><td>null</td><td>04179</td><td>Germany</td><td>null</td><td>0.00</td></tr><tr><td>447</td><td>Gift Ideas Corp.</td><td>Lewis</td><td>Dan</td><td>2035554407</td><td>2440 Pompton St.</td><td>null</td><td>Glendale</td><td>CT</td><td>97561</td><td>USA</td><td>1323</td><td>49700.00</td></tr><tr><td>448</td><td>Scandinavian Gift Ideas</td><td>Larsson</td><td>Martha</td><td>0695-34 6555</td><td>�kergatan 24</td><td>null</td><td>Br�cke</td><td>null</td><td>S-844 67</td><td>Sweden</td><td>1504</td><td>116400.00</td></tr><tr><td>450</td><td>The Sharp Gifts Warehouse</td><td>Frick</td><td>Sue</td><td>4085553659</td><td>3086 Ingle Ln.</td><td>null</td><td>San Jose</td><td>CA</td><td>94217</td><td>USA</td><td>1165</td><td>77600.00</td></tr><tr><td>452</td><td>Mini Auto Werke</td><td>Mendel</td><td>Roland </td><td>7675-3555</td><td>Kirchgasse 6</td><td>null</td><td>Graz</td><td>null</td><td>8010</td><td>Austria</td><td>1401</td><td>45300.00</td></tr><tr><td>455</td><td>Super Scale Inc.</td><td>Murphy</td><td>Leslie</td><td>2035559545</td><td>567 North Pendale Street</td><td>null</td><td>New Haven</td><td>CT</td><td>97823</td><td>USA</td><td>1286</td><td>95400.00</td></tr><tr><td>456</td><td>Microscal Inc</td><td>Cho</td><td>Yu</td><td>2125551957</td><td>5290 North Pendale Street</td><td>Suite 200</td><td>NYC</td><td>NY</td><td>10022</td><td>USA</td><td>1286</td><td>39800.00</td></tr><tr><td>458</td><td>Corrida Auto Replicas, Ltd</td><td>Sommer</td><td>Mart�n </td><td>(91) 555 22 82</td><td>C/ Araquil, 67</td><td>null</td><td>Madrid</td><td>null</td><td>28023</td><td>Spain</td><td>1702</td><td>104600.00</td></tr><tr><td>459</td><td>Warburg Exchange</td><td>Ottlieb</td><td>Sven </td><td>0241-039123</td><td>Walserweg 21</td><td>null</td><td>Aachen</td><td>null</td><td>52066</td><td>Germany</td><td>null</td><td>0.00</td></tr><tr><td>462</td><td>FunGiftIdeas.com</td><td>Benitez</td><td>Violeta</td><td>5085552555</td><td>1785 First Street</td><td>null</td><td>New Bedford</td><td>MA</td><td>50553</td><td>USA</td><td>1216</td><td>85800.00</td></tr><tr><td>465</td><td>Anton Designs, Ltd.</td><td>Anton</td><td>Carmen</td><td>+34 913 728555</td><td>c/ Gobelas, 19-1 Urb. La Florida</td><td>null</td><td>Madrid</td><td>null</td><td>28023</td><td>Spain</td><td>null</td><td>0.00</td></tr><tr><td>471</td><td>Australian Collectables, Ltd</td><td>Clenahan</td><td>Sean</td><td>61-9-3844-6555</td><td>7 Allen Street</td><td>null</td><td>Glen Waverly</td><td>Victoria</td><td>3150</td><td>Australia</td><td>1611</td><td>60300.00</td></tr><tr><td>473</td><td>Frau da Collezione</td><td>Ricotti</td><td>Franco</td><td>+39 022515555</td><td>20093 Cologno Monzese</td><td>Alessandro Volta 16</td><td>Milan</td><td>null</td><td>null</td><td>Italy</td><td>1401</td><td>34800.00</td></tr><tr><td>475</td><td>West Coast Collectables Co.</td><td>Thompson</td><td>Steve</td><td>3105553722</td><td>3675 Furth Circle</td><td>null</td><td>Burbank</td><td>CA</td><td>94019</td><td>USA</td><td>1166</td><td>55400.00</td></tr><tr><td>477</td><td>Mit Vergn�gen & Co.</td><td>Moos</td><td>Hanna </td><td>0621-08555</td><td>Forsterstr. 57</td><td>null</td><td>Mannheim</td><td>null</td><td>68306</td><td>Germany</td><td>null</td><td>0.00</td></tr><tr><td>480</td><td>Kremlin Collectables, Co.</td><td>Semenov</td><td>Alexander </td><td>+7 812 293 0521</td><td>2 Pobedy Square</td><td>null</td><td>Saint Petersburg</td><td>null</td><td>196143</td><td>Russia</td><td>null</td><td>0.00</td></tr><tr><td>481</td><td>Raanan Stores, Inc</td><td>Altagar,G M</td><td>Raanan</td><td>+ 972 9 959 8555</td><td>3 Hagalim Blv.</td><td>null</td><td>Herzlia</td><td>null</td><td>47625</td><td>Israel</td><td>null</td><td>0.00</td></tr><tr><td>484</td><td>Iberia Gift Imports, Corp.</td><td>Roel</td><td>Jos� Pedro </td><td>(95) 555 82 82</td><td>C/ Romero, 33</td><td>null</td><td>Sevilla</td><td>null</td><td>41101</td><td>Spain</td><td>1702</td><td>65700.00</td></tr><tr><td>486</td><td>Motor Mint Distributors Inc.</td><td>Salazar</td><td>Rosa</td><td>2155559857</td><td>11328 Douglas Av.</td><td>null</td><td>Philadelphia</td><td>PA</td><td>71270</td><td>USA</td><td>1323</td><td>72600.00</td></tr><tr><td>487</td><td>Signal Collectibles Ltd.</td><td>Taylor</td><td>Sue</td><td>4155554312</td><td>2793 Furth Circle</td><td>null</td><td>Brisbane</td><td>CA</td><td>94217</td><td>USA</td><td>1165</td><td>60300.00</td></tr><tr><td>489</td><td>Double Decker Gift Stores, Ltd</td><td>Smith</td><td>Thomas </td><td>(171) 555-7555</td><td>120 Hanover Sq.</td><td>null</td><td>London</td><td>null</td><td>WA1 1DP</td><td>UK</td><td>1501</td><td>43300.00</td></tr><tr><td>495</td><td>Diecast</td><td>Franco</td><td>Dmitry</td><td>6175552555</td><td>6251 Ingle Ln.</td><td>null</td><td>Boston</td><td>MA</td><td>51003</td><td>USA</td><td>1188</td><td>85100.00</td></tr><tr><td>496</td><td>Kelly Hello</td><td>Jason</td><td>Tony</td><td>+64 9 5555500</td><td>Arenales 2020</td><td>null</td><td>Auckland  </td><td>null</td><td>null</td><td>New Zealand</td><td>1612</td><td>110000.00</td></tr></tbody></table></div>"
      ]
     },
     "metadata": {
      "application/vnd.databricks.v1+output": {
       "addedWidgets": {},
       "aggData": [],
       "aggError": "",
       "aggOverflow": false,
       "aggSchema": [],
       "aggSeriesLimitReached": false,
       "aggType": "",
       "arguments": {},
       "columnCustomDisplayInfos": {},
       "data": [
        [
         103,
         "Jake",
         "King",
         "Carine ",
         "40.32.2555",
         "54, rue Royale",
         null,
         "Nantes",
         "Victoria",
         "44000",
         "France",
         1370,
         "21000.00"
        ],
        [
         112,
         "Signal Gift Store",
         "King",
         "Jean",
         "7025551838",
         "8489 Strong St.",
         null,
         "Las Vegas",
         "New York",
         "83030",
         "USA",
         1166,
         "71800.00"
        ],
        [
         114,
         "Australian Collectors, Co.",
         "Ferguson",
         "Peter Sr.",
         "03 9520 4555",
         "636 St Kilda Road",
         "Level 3",
         "Melbourne",
         "Victoria",
         "3004",
         "Australia",
         1611,
         "117300.00"
        ],
        [
         119,
         "La Rochelle Gifts",
         "Labrune",
         "Janine ",
         "40.67.8555",
         "67, rue des Cinquante Otages",
         null,
         "Nantes",
         null,
         "44000",
         "France",
         1370,
         "118200.00"
        ],
        [
         121,
         "Baane Mini Imports",
         "Bergulfsen",
         "Jonas ",
         "07-98 9555",
         "Erling Skakkes gate 78",
         null,
         "Stavern",
         null,
         "4110",
         "Norway",
         1504,
         "81700.00"
        ],
        [
         124,
         "Mini Gifts Distributors Ltd.",
         "Nelson",
         "Susan",
         "4155551450",
         "5677 Strong St.",
         null,
         "San Rafael",
         "CA",
         "97562",
         "USA",
         1165,
         "210500.00"
        ],
        [
         125,
         "Havel & Zbyszek Co",
         "Piestrzeniewicz",
         "Zbyszek ",
         "(26) 642-7555",
         "ul. Filtrowa 68",
         null,
         "Warszawa",
         null,
         "01-012",
         "Poland",
         null,
         "0.00"
        ],
        [
         128,
         "Blauer See Auto, Co.",
         "Keitel",
         "Roland",
         "+49 69 66 90 2555",
         "Lyonerstr. 34",
         null,
         "Frankfurt",
         null,
         "60528",
         "Germany",
         1504,
         "59700.00"
        ],
        [
         129,
         "Mini Wheels Co.",
         "Murphy",
         "Julie",
         "6505555787",
         "5557 North Pendale Street",
         null,
         "San Francisco",
         "CA",
         "94217",
         "USA",
         1165,
         "64600.00"
        ],
        [
         131,
         "Land of Toys Inc.",
         "Lee",
         "Kwai",
         "2125557818",
         "897 Long Airport Avenue",
         null,
         "NYC",
         "NY",
         "10022",
         "USA",
         1323,
         "114900.00"
        ],
        [
         141,
         "Euro+ Shopping Channel",
         "Freyre",
         "Diego ",
         "(91) 555 94 44",
         "C/ Moralzarzal, 86",
         null,
         "Madrid",
         null,
         "28034",
         "Spain",
         1370,
         "227600.00"
        ],
        [
         144,
         "Volvo Model Replicas, Co",
         "Berglund",
         "Christina ",
         "0921-12 3555",
         "Berguvsv�gen  8",
         null,
         "Lule�",
         null,
         "S-958 22",
         "Sweden",
         1504,
         "53100.00"
        ],
        [
         145,
         "Danish Wholesale Imports",
         "Petersen",
         "Jytte ",
         "31 12 3555",
         "Vinb�ltet 34",
         null,
         "Kobenhavn",
         null,
         "1734",
         "Denmark",
         1401,
         "83400.00"
        ],
        [
         146,
         "Saveley & Henriot, Co.",
         "Saveley",
         "Mary ",
         "78.32.5555",
         "2, rue du Commerce",
         null,
         "Lyon",
         null,
         "69004",
         "France",
         1337,
         "123900.00"
        ],
        [
         148,
         "Dragon Souveniers, Ltd.",
         "Natividad",
         "Eric",
         "+65 221 7555",
         "Bronz Sok.",
         "Bronz Apt. 3/6 Tesvikiye",
         "Singapore",
         null,
         "079903",
         "Singapore",
         1621,
         "103800.00"
        ],
        [
         151,
         "Muscle Machine Inc",
         "Young",
         "Jeff",
         "2125557413",
         "4092 Furth Circle",
         "Suite 400",
         "NYC",
         "NY",
         "10022",
         "USA",
         1286,
         "138500.00"
        ],
        [
         157,
         "Diecast Classics Inc.",
         "Leong",
         "Kelvin",
         "2155551555",
         "7586 Pompton St.",
         null,
         "Allentown",
         "PA",
         "70267",
         "USA",
         1216,
         "100600.00"
        ],
        [
         161,
         "Technics Stores Inc.",
         "Hashimoto",
         "Juri",
         "6505556809",
         "9408 Furth Circle",
         null,
         "Burlingame",
         "CA",
         "94217",
         "USA",
         1165,
         "84600.00"
        ],
        [
         166,
         "Handji Gifts& Co",
         "Victorino",
         "Wendy",
         "+65 224 1555",
         "106 Linden Road Sandown",
         "2nd Floor",
         "Singapore",
         null,
         "069045",
         "Singapore",
         1612,
         "97900.00"
        ],
        [
         167,
         "Herkku Gifts",
         "Oeztan",
         "Veysel",
         "+47 2267 3215",
         "Brehmen St. 121",
         "PR 334 Sentrum",
         "Bergen",
         null,
         "N 5804",
         "Norway  ",
         1504,
         "96800.00"
        ],
        [
         168,
         "American Souvenirs Inc",
         "Franco",
         "Keith",
         "2035557845",
         "149 Spinnaker Dr.",
         "Suite 101",
         "New Haven",
         "CT",
         "97823",
         "USA",
         1286,
         "0.00"
        ],
        [
         169,
         "Porto Imports Co.",
         "de Castro",
         "Isabel ",
         "(1) 356-5555",
         "Estrada da sa�de n. 58",
         null,
         "Lisboa",
         null,
         "1756",
         "Portugal",
         null,
         "0.00"
        ],
        [
         171,
         "Daedalus Designs Imports",
         "Ranc�",
         "Martine ",
         "20.16.1555",
         "184, chauss�e de Tournai",
         null,
         "Lille",
         null,
         "59000",
         "France",
         1370,
         "82900.00"
        ],
        [
         172,
         "La Corne D'abondance, Co.",
         "Bertrand",
         "Marie",
         "(1) 42.34.2555",
         "265, boulevard Charonne",
         null,
         "Paris",
         null,
         "75012",
         "France",
         1337,
         "84300.00"
        ],
        [
         173,
         "Cambridge Collectables Co.",
         "Tseng",
         "Jerry",
         "6175555555",
         "4658 Baden Av.",
         null,
         "Cambridge",
         "MA",
         "51247",
         "USA",
         1188,
         "43400.00"
        ],
        [
         175,
         "Gift Depot Inc.",
         "King",
         "Julie",
         "2035552570",
         "25593 South Bay Ln.",
         null,
         "Bridgewater",
         "CT",
         "97562",
         "USA",
         1323,
         "84300.00"
        ],
        [
         177,
         "Osaka Souveniers Co.",
         "Kentary",
         "Mory",
         "+81 06 6342 5555",
         "1-6-20 Dojima",
         null,
         "Kita-ku",
         "Osaka",
         " 530-0003",
         "Japan",
         1621,
         "81200.00"
        ],
        [
         181,
         "Vitachrome Inc.",
         "Frick",
         "Michael",
         "2125551500",
         "2678 Kingston Rd.",
         "Suite 101",
         "NYC",
         "NY",
         "10022",
         "USA",
         1286,
         "76400.00"
        ],
        [
         186,
         "Toys of Finland, Co.",
         "Karttunen",
         "Matti",
         "90-224 8555",
         "Keskuskatu 45",
         null,
         "Helsinki",
         null,
         "21240",
         "Finland",
         1501,
         "96500.00"
        ],
        [
         187,
         "AV Stores, Co.",
         "Ashworth",
         "Rachel",
         "(171) 555-1555",
         "Fauntleroy Circus",
         null,
         "Manchester",
         null,
         "EC2 5NT",
         "UK",
         1501,
         "136800.00"
        ],
        [
         189,
         "Clover Collections, Co.",
         "Cassidy",
         "Dean",
         "+353 1862 1555",
         "25 Maiden Lane",
         "Floor No. 4",
         "Dublin",
         null,
         "2",
         "Ireland",
         1504,
         "69400.00"
        ],
        [
         198,
         "Auto-Moto Classics Inc.",
         "Taylor",
         "Leslie",
         "6175558428",
         "16780 Pompton St.",
         null,
         "Brickhaven",
         "MA",
         "58339",
         "USA",
         1216,
         "23000.00"
        ],
        [
         201,
         "UK Collectables, Ltd.",
         "Devon",
         "Elizabeth",
         "(171) 555-2282",
         "12, Berkeley Gardens Blvd",
         null,
         "Liverpool",
         null,
         "WX1 6LT",
         "UK",
         1501,
         "92700.00"
        ],
        [
         202,
         "Canadian Gift Exchange Network",
         "Tamuri",
         "Yoshi ",
         "(604) 555-3392",
         "1900 Oak St.",
         null,
         "Vancouver",
         "BC",
         "V3F 2K1",
         "Canada",
         1323,
         "90300.00"
        ],
        [
         204,
         "Online Mini Collectables",
         "Barajas",
         "Miguel",
         "6175557555",
         "7635 Spinnaker Dr.",
         null,
         "Brickhaven",
         "MA",
         "58339",
         "USA",
         1188,
         "68700.00"
        ],
        [
         205,
         "Toys4GrownUps.com",
         "Young",
         "Julie",
         "6265557265",
         "78934 Hillside Dr.",
         null,
         "Pasadena",
         "CA",
         "90003",
         "USA",
         1166,
         "90700.00"
        ],
        [
         206,
         "Asian Shopping Network, Co",
         "Walker",
         "Brydey",
         "+612 9411 1555",
         "Suntec Tower Three",
         "8 Temasek",
         "Singapore",
         null,
         "038988",
         "Singapore",
         null,
         "0.00"
        ],
        [
         209,
         "Mini Caravy",
         "Citeaux",
         "Fr�d�rique ",
         "88.60.1555",
         "24, place Kl�ber",
         null,
         "Strasbourg",
         null,
         "67000",
         "France",
         1370,
         "53800.00"
        ],
        [
         211,
         "King Kong Collectables, Co.",
         "Gao",
         "Mike",
         "+852 2251 1555",
         "Bank of China Tower",
         "1 Garden Road",
         "Central Hong Kong",
         null,
         null,
         "Hong Kong",
         1621,
         "58600.00"
        ],
        [
         216,
         "Enaco Distributors",
         "Saavedra",
         "Eduardo ",
         "(93) 203 4555",
         "Rambla de Catalu�a, 23",
         null,
         "Barcelona",
         null,
         "08022",
         "Spain",
         1702,
         "60300.00"
        ],
        [
         219,
         "Boards & Toys Co.",
         "Young",
         "Mary",
         "3105552373",
         "4097 Douglas Av.",
         null,
         "Glendale",
         "CA",
         "92561",
         "USA",
         1166,
         "11000.00"
        ],
        [
         223,
         "Nat�rlich Autos",
         "Kloss",
         "Horst ",
         "0372-555188",
         "Taucherstra�e 10",
         null,
         "Cunewalde",
         null,
         "01307",
         "Germany",
         null,
         "0.00"
        ],
        [
         227,
         "Heintze Collectables",
         "Ibsen",
         "Palle",
         "86 21 3555",
         "Smagsloget 45",
         null,
         "�rhus",
         null,
         "8200",
         "Denmark",
         1401,
         "120800.00"
        ],
        [
         233,
         "Qu�bec Home Shopping Network",
         "Fresni�re",
         "Jean ",
         "(514) 555-8054",
         "43 rue St. Laurent",
         null,
         "Montr�al",
         "Qu�bec",
         "H1J 1C3",
         "Canada",
         1286,
         "48700.00"
        ],
        [
         237,
         "ANG Resellers",
         "Camino",
         "Alejandra ",
         "(91) 745 6555",
         "Gran V�a, 1",
         null,
         "Madrid",
         null,
         "28001",
         "Spain",
         null,
         "0.00"
        ],
        [
         239,
         "Collectable Mini Designs Co.",
         "Thompson",
         "Valarie",
         "7605558146",
         "361 Furth Circle",
         null,
         "San Diego",
         "CA",
         "91217",
         "USA",
         1166,
         "105000.00"
        ],
        [
         240,
         "giftsbymail.co.uk",
         "Bennett",
         "Helen ",
         "(198) 555-8888",
         "Garden House",
         "Crowther Way 23",
         "Cowes",
         "Isle of Wight",
         "PO31 7PJ",
         "UK",
         1501,
         "93900.00"
        ],
        [
         242,
         "Alpha Cognac",
         "Roulet",
         "Annette ",
         "61.77.6555",
         "1 rue Alsace-Lorraine",
         null,
         "Toulouse",
         null,
         "31000",
         "France",
         1370,
         "61100.00"
        ],
        [
         247,
         "Messner Shopping Network",
         "Messner",
         "Renate ",
         "069-0555984",
         "Magazinweg 7",
         null,
         "Frankfurt",
         null,
         "60528",
         "Germany",
         null,
         "0.00"
        ],
        [
         249,
         "Amica Models & Co.",
         "Accorti",
         "Paolo ",
         "011-4988555",
         "Via Monte Bianco 34",
         null,
         "Torino",
         null,
         "10100",
         "Italy",
         1401,
         "113000.00"
        ],
        [
         250,
         "Lyon Souveniers",
         "Da Silva",
         "Daniel",
         "+33 1 46 62 7555",
         "27 rue du Colonel Pierre Avia",
         null,
         "Paris",
         null,
         "75508",
         "France",
         1337,
         "68100.00"
        ],
        [
         256,
         "Auto Associ�s & Cie.",
         "Tonini",
         "Daniel ",
         "30.59.8555",
         "67, avenue de l'Europe",
         null,
         "Versailles",
         null,
         "78000",
         "France",
         1370,
         "77900.00"
        ],
        [
         259,
         "Toms Spezialit�ten, Ltd",
         "Pfalzheim",
         "Henriette ",
         "0221-5554327",
         "Mehrheimerstr. 369",
         null,
         "K�ln",
         null,
         "50739",
         "Germany",
         1504,
         "120400.00"
        ],
        [
         260,
         "Royal Canadian Collectables, Ltd.",
         "Lincoln",
         "Elizabeth ",
         "(604) 555-4555",
         "23 Tsawassen Blvd.",
         null,
         "Tsawassen",
         "BC",
         "T2F 8M4",
         "Canada",
         1323,
         "89600.00"
        ],
        [
         273,
         "Franken Gifts, Co",
         "Franken",
         "Peter ",
         "089-0877555",
         "Berliner Platz 43",
         null,
         "M�nchen",
         null,
         "80805",
         "Germany",
         null,
         "0.00"
        ],
        [
         276,
         "Anna's Decorations, Ltd",
         "O'Hara",
         "Anna",
         "02 9936 8555",
         "201 Miller Street",
         "Level 15",
         "North Sydney",
         "NSW",
         "2060",
         "Australia",
         1611,
         "107800.00"
        ],
        [
         278,
         "Rovelli Gifts",
         "Rovelli",
         "Giovanni ",
         "035-640555",
         "Via Ludovico il Moro 22",
         null,
         "Bergamo",
         null,
         "24100",
         "Italy",
         1401,
         "119600.00"
        ],
        [
         282,
         "Souveniers And Things Co.",
         "Huxley",
         "Adrian",
         "+61 2 9495 8555",
         "Monitor Money Building",
         "815 Pacific Hwy",
         "Chatswood",
         "NSW",
         "2067",
         "Australia",
         1611,
         "93300.00"
        ],
        [
         286,
         "Marta's Replicas Co.",
         "Hernandez",
         "Marta",
         "6175558555",
         "39323 Spinnaker Dr.",
         null,
         "Cambridge",
         "MA",
         "51247",
         "USA",
         1216,
         "123700.00"
        ],
        [
         293,
         "BG&E Collectables",
         "Harrison",
         "Ed",
         "+41 26 425 50 01",
         "Rte des Arsenaux 41 ",
         null,
         "Fribourg",
         null,
         "1700",
         "Switzerland",
         null,
         "0.00"
        ],
        [
         298,
         "Vida Sport, Ltd",
         "Holz",
         "Mihael",
         "0897-034555",
         "Grenzacherweg 237",
         null,
         "Gen�ve",
         null,
         "1203",
         "Switzerland",
         1702,
         "141300.00"
        ],
        [
         299,
         "Norway Gifts By Mail, Co.",
         "Klaeboe",
         "Jan",
         "+47 2212 1555",
         "Drammensveien 126A",
         "PB 211 Sentrum",
         "Oslo",
         null,
         "N 0106",
         "Norway  ",
         1504,
         "95100.00"
        ],
        [
         303,
         "Schuyler Imports",
         "Schuyler",
         "Bradley",
         "+31 20 491 9555",
         "Kingsfordweg 151",
         null,
         "Amsterdam",
         null,
         "1043 GR",
         "Netherlands",
         null,
         "0.00"
        ],
        [
         307,
         "Der Hund Imports",
         "Andersen",
         "Mel",
         "030-0074555",
         "Obere Str. 57",
         null,
         "Berlin",
         null,
         "12209",
         "Germany",
         null,
         "0.00"
        ],
        [
         311,
         "Oulu Toy Supplies, Inc.",
         "Koskitalo",
         "Pirkko",
         "981-443655",
         "Torikatu 38",
         null,
         "Oulu",
         null,
         "90110",
         "Finland",
         1501,
         "90500.00"
        ],
        [
         314,
         "Petit Auto",
         "Dewey",
         "Catherine ",
         "(02) 5554 67",
         "Rue Joseph-Bens 532",
         null,
         "Bruxelles",
         null,
         "B-1180",
         "Belgium",
         1401,
         "79900.00"
        ],
        [
         319,
         "Mini Classics",
         "Frick",
         "Steve",
         "9145554562",
         "3758 North Pendale Street",
         null,
         "White Plains",
         "NY",
         "24067",
         "USA",
         1323,
         "102700.00"
        ],
        [
         320,
         "Mini Creations Ltd.",
         "Huang",
         "Wing",
         "5085559555",
         "4575 Hillside Dr.",
         null,
         "New Bedford",
         "MA",
         "50553",
         "USA",
         1188,
         "94500.00"
        ],
        [
         321,
         "Corporate Gift Ideas Co.",
         "Brown",
         "Julie",
         "6505551386",
         "7734 Strong St.",
         null,
         "San Francisco",
         "CA",
         "94217",
         "USA",
         1165,
         "105000.00"
        ],
        [
         323,
         "Down Under Souveniers, Inc",
         "Graham",
         "Mike",
         "+64 9 312 5555",
         "162-164 Grafton Road",
         "Level 2",
         "Auckland  ",
         null,
         null,
         "New Zealand",
         1612,
         "88000.00"
        ],
        [
         324,
         "Stylish Desk Decors, Co.",
         "Brown",
         "Ann ",
         "(171) 555-0297",
         "35 King George",
         null,
         "London",
         null,
         "WX3 6FW",
         "UK",
         1501,
         "77000.00"
        ],
        [
         328,
         "Tekni Collectables Inc.",
         "Brown",
         "William",
         "2015559350",
         "7476 Moss Rd.",
         null,
         "Newark",
         "NJ",
         "94019",
         "USA",
         1323,
         "43000.00"
        ],
        [
         333,
         "Australian Gift Network, Co",
         "Calaghan",
         "Ben",
         "61-7-3844-6555",
         "31 Duncan St. West End",
         null,
         "South Brisbane",
         "Queensland",
         "4101",
         "Australia",
         1611,
         "51600.00"
        ],
        [
         334,
         "Suominen Souveniers",
         "Suominen",
         "Kalle",
         "+358 9 8045 555",
         "Software Engineering Center",
         "SEC Oy",
         "Espoo",
         null,
         "FIN-02271",
         "Finland",
         1501,
         "98800.00"
        ],
        [
         335,
         "Cramer Spezialit�ten, Ltd",
         "Cramer",
         "Philip ",
         "0555-09555",
         "Maubelstr. 90",
         null,
         "Brandenburg",
         null,
         "14776",
         "Germany",
         null,
         "0.00"
        ],
        [
         339,
         "Classic Gift Ideas, Inc",
         "Cervantes",
         "Francisca",
         "2155554695",
         "782 First Street",
         null,
         "Philadelphia",
         "PA",
         "71270",
         "USA",
         1188,
         "81100.00"
        ],
        [
         344,
         "CAF Imports",
         "Fernandez",
         "Jesus",
         "+34 913 728 555",
         "Merchants House",
         "27-30 Merchant's Quay",
         "Madrid",
         null,
         "28023",
         "Spain",
         1702,
         "59600.00"
        ],
        [
         347,
         "Men 'R' US Retailers, Ltd.",
         "Chandler",
         "Brian",
         "2155554369",
         "6047 Douglas Av.",
         null,
         "Los Angeles",
         "CA",
         "91003",
         "USA",
         1166,
         "57700.00"
        ],
        [
         348,
         "Asian Treasures, Inc.",
         "McKenna",
         "Patricia ",
         "2967 555",
         "8 Johnstown Road",
         null,
         "Cork",
         "Co. Cork",
         null,
         "Ireland",
         null,
         "0.00"
        ],
        [
         350,
         "Marseille Mini Autos",
         "Lebihan",
         "Laurence ",
         "91.24.4555",
         "12, rue des Bouchers",
         null,
         "Marseille",
         null,
         "13008",
         "France",
         1337,
         "65000.00"
        ],
        [
         353,
         "Reims Collectables",
         "Henriot",
         "Paul ",
         "26.47.1555",
         "59 rue de l'Abbaye",
         null,
         "Reims",
         null,
         "51100",
         "France",
         1337,
         "81100.00"
        ],
        [
         356,
         "SAR Distributors, Co",
         "Kuger",
         "Armand",
         "+27 21 550 3555",
         "1250 Pretorius Street",
         null,
         "Hatfield",
         "Pretoria",
         "0028",
         "South Africa",
         null,
         "0.00"
        ],
        [
         357,
         "GiftsForHim.com",
         "MacKinlay",
         "Wales",
         "64-9-3763555",
         "199 Great North Road",
         null,
         "Auckland",
         null,
         null,
         "New Zealand",
         1612,
         "77700.00"
        ],
        [
         361,
         "Kommission Auto",
         "Josephs",
         "Karin",
         "0251-555259",
         "Luisenstr. 48",
         null,
         "M�nster",
         null,
         "44087",
         "Germany",
         null,
         "0.00"
        ],
        [
         362,
         "Gifts4AllAges.com",
         "Yoshido",
         "Juri",
         "6175559555",
         "8616 Spinnaker Dr.",
         null,
         "Boston",
         "MA",
         "51003",
         "USA",
         1216,
         "41900.00"
        ],
        [
         363,
         "Online Diecast Creations Co.",
         "Young",
         "Dorothy",
         "6035558647",
         "2304 Long Airport Avenue",
         null,
         "Nashua",
         "NH",
         "62005",
         "USA",
         1216,
         "114200.00"
        ],
        [
         369,
         "Lisboa Souveniers, Inc",
         "Rodriguez",
         "Lino ",
         "(1) 354-2555",
         "Jardim das rosas n. 32",
         null,
         "Lisboa",
         null,
         "1675",
         "Portugal",
         null,
         "0.00"
        ],
        [
         376,
         "Precious Collectables",
         "Urs",
         "Braun",
         "0452-076555",
         "Hauptstr. 29",
         null,
         "Bern",
         null,
         "3012",
         "Switzerland",
         1702,
         "0.00"
        ],
        [
         379,
         "Collectables For Less Inc.",
         "Nelson",
         "Allen",
         "6175558555",
         "7825 Douglas Av.",
         null,
         "Brickhaven",
         "MA",
         "58339",
         "USA",
         1188,
         "70700.00"
        ],
        [
         381,
         "Royale Belge",
         "Cartrain",
         "Pascale ",
         "(071) 23 67 2555",
         "Boulevard Tirou, 255",
         null,
         "Charleroi",
         null,
         "B-6000",
         "Belgium",
         1401,
         "23500.00"
        ],
        [
         382,
         "Salzburg Collectables",
         "Pipps",
         "Georg ",
         "6562-9555",
         "Geislweg 14",
         null,
         "Salzburg",
         null,
         "5020",
         "Austria",
         1401,
         "71700.00"
        ],
        [
         385,
         "Cruz & Sons Co.",
         "Cruz",
         "Arnold",
         "+63 2 555 3587",
         "15 McCallum Street",
         "NatWest Center #13-03",
         "Makati City",
         null,
         "1227 MM",
         "Philippines",
         1621,
         "81500.00"
        ],
        [
         386,
         "L'ordine Souveniers",
         "Moroni",
         "Maurizio ",
         "0522-556555",
         "Strada Provinciale 124",
         null,
         "Reggio Emilia",
         null,
         "42100",
         "Italy",
         1401,
         "121400.00"
        ],
        [
         398,
         "Tokyo Collectables, Ltd",
         "Shimamura",
         "Akiko",
         "+81 3 3584 0555",
         "2-2-8 Roppongi",
         null,
         "Minato-ku",
         "Tokyo",
         "106-0032",
         "Japan",
         1621,
         "94400.00"
        ],
        [
         406,
         "Auto Canal+ Petit",
         "Perrier",
         "Dominique",
         "(1) 47.55.6555",
         "25, rue Lauriston",
         null,
         "Paris",
         null,
         "75016",
         "France",
         1337,
         "95000.00"
        ],
        [
         409,
         "Stuttgart Collectable Exchange",
         "M�ller",
         "Rita ",
         "0711-555361",
         "Adenauerallee 900",
         null,
         "Stuttgart",
         null,
         "70563",
         "Germany",
         null,
         "0.00"
        ],
        [
         412,
         "Extreme Desk Decorations, Ltd",
         "McRoy",
         "Sarah",
         "04 499 9555",
         "101 Lambton Quay",
         "Level 11",
         "Wellington",
         null,
         null,
         "New Zealand",
         1612,
         "86800.00"
        ],
        [
         415,
         "Bavarian Collectables Imports, Co.",
         "Donnermeyer",
         "Michael",
         " +49 89 61 08 9555",
         "Hansastr. 15",
         null,
         "Munich",
         null,
         "80686",
         "Germany",
         1504,
         "77000.00"
        ],
        [
         424,
         "Classic Legends Inc.",
         "Hernandez",
         "Maria",
         "2125558493",
         "5905 Pompton St.",
         "Suite 750",
         "NYC",
         "NY",
         "10022",
         "USA",
         1286,
         "67500.00"
        ],
        [
         443,
         "Feuer Online Stores, Inc",
         "Feuer",
         "Alexander ",
         "0342-555176",
         "Heerstr. 22",
         null,
         "Leipzig",
         null,
         "04179",
         "Germany",
         null,
         "0.00"
        ],
        [
         447,
         "Gift Ideas Corp.",
         "Lewis",
         "Dan",
         "2035554407",
         "2440 Pompton St.",
         null,
         "Glendale",
         "CT",
         "97561",
         "USA",
         1323,
         "49700.00"
        ],
        [
         448,
         "Scandinavian Gift Ideas",
         "Larsson",
         "Martha",
         "0695-34 6555",
         "�kergatan 24",
         null,
         "Br�cke",
         null,
         "S-844 67",
         "Sweden",
         1504,
         "116400.00"
        ],
        [
         450,
         "The Sharp Gifts Warehouse",
         "Frick",
         "Sue",
         "4085553659",
         "3086 Ingle Ln.",
         null,
         "San Jose",
         "CA",
         "94217",
         "USA",
         1165,
         "77600.00"
        ],
        [
         452,
         "Mini Auto Werke",
         "Mendel",
         "Roland ",
         "7675-3555",
         "Kirchgasse 6",
         null,
         "Graz",
         null,
         "8010",
         "Austria",
         1401,
         "45300.00"
        ],
        [
         455,
         "Super Scale Inc.",
         "Murphy",
         "Leslie",
         "2035559545",
         "567 North Pendale Street",
         null,
         "New Haven",
         "CT",
         "97823",
         "USA",
         1286,
         "95400.00"
        ],
        [
         456,
         "Microscal Inc",
         "Cho",
         "Yu",
         "2125551957",
         "5290 North Pendale Street",
         "Suite 200",
         "NYC",
         "NY",
         "10022",
         "USA",
         1286,
         "39800.00"
        ],
        [
         458,
         "Corrida Auto Replicas, Ltd",
         "Sommer",
         "Mart�n ",
         "(91) 555 22 82",
         "C/ Araquil, 67",
         null,
         "Madrid",
         null,
         "28023",
         "Spain",
         1702,
         "104600.00"
        ],
        [
         459,
         "Warburg Exchange",
         "Ottlieb",
         "Sven ",
         "0241-039123",
         "Walserweg 21",
         null,
         "Aachen",
         null,
         "52066",
         "Germany",
         null,
         "0.00"
        ],
        [
         462,
         "FunGiftIdeas.com",
         "Benitez",
         "Violeta",
         "5085552555",
         "1785 First Street",
         null,
         "New Bedford",
         "MA",
         "50553",
         "USA",
         1216,
         "85800.00"
        ],
        [
         465,
         "Anton Designs, Ltd.",
         "Anton",
         "Carmen",
         "+34 913 728555",
         "c/ Gobelas, 19-1 Urb. La Florida",
         null,
         "Madrid",
         null,
         "28023",
         "Spain",
         null,
         "0.00"
        ],
        [
         471,
         "Australian Collectables, Ltd",
         "Clenahan",
         "Sean",
         "61-9-3844-6555",
         "7 Allen Street",
         null,
         "Glen Waverly",
         "Victoria",
         "3150",
         "Australia",
         1611,
         "60300.00"
        ],
        [
         473,
         "Frau da Collezione",
         "Ricotti",
         "Franco",
         "+39 022515555",
         "20093 Cologno Monzese",
         "Alessandro Volta 16",
         "Milan",
         null,
         null,
         "Italy",
         1401,
         "34800.00"
        ],
        [
         475,
         "West Coast Collectables Co.",
         "Thompson",
         "Steve",
         "3105553722",
         "3675 Furth Circle",
         null,
         "Burbank",
         "CA",
         "94019",
         "USA",
         1166,
         "55400.00"
        ],
        [
         477,
         "Mit Vergn�gen & Co.",
         "Moos",
         "Hanna ",
         "0621-08555",
         "Forsterstr. 57",
         null,
         "Mannheim",
         null,
         "68306",
         "Germany",
         null,
         "0.00"
        ],
        [
         480,
         "Kremlin Collectables, Co.",
         "Semenov",
         "Alexander ",
         "+7 812 293 0521",
         "2 Pobedy Square",
         null,
         "Saint Petersburg",
         null,
         "196143",
         "Russia",
         null,
         "0.00"
        ],
        [
         481,
         "Raanan Stores, Inc",
         "Altagar,G M",
         "Raanan",
         "+ 972 9 959 8555",
         "3 Hagalim Blv.",
         null,
         "Herzlia",
         null,
         "47625",
         "Israel",
         null,
         "0.00"
        ],
        [
         484,
         "Iberia Gift Imports, Corp.",
         "Roel",
         "Jos� Pedro ",
         "(95) 555 82 82",
         "C/ Romero, 33",
         null,
         "Sevilla",
         null,
         "41101",
         "Spain",
         1702,
         "65700.00"
        ],
        [
         486,
         "Motor Mint Distributors Inc.",
         "Salazar",
         "Rosa",
         "2155559857",
         "11328 Douglas Av.",
         null,
         "Philadelphia",
         "PA",
         "71270",
         "USA",
         1323,
         "72600.00"
        ],
        [
         487,
         "Signal Collectibles Ltd.",
         "Taylor",
         "Sue",
         "4155554312",
         "2793 Furth Circle",
         null,
         "Brisbane",
         "CA",
         "94217",
         "USA",
         1165,
         "60300.00"
        ],
        [
         489,
         "Double Decker Gift Stores, Ltd",
         "Smith",
         "Thomas ",
         "(171) 555-7555",
         "120 Hanover Sq.",
         null,
         "London",
         null,
         "WA1 1DP",
         "UK",
         1501,
         "43300.00"
        ],
        [
         495,
         "Diecast",
         "Franco",
         "Dmitry",
         "6175552555",
         "6251 Ingle Ln.",
         null,
         "Boston",
         "MA",
         "51003",
         "USA",
         1188,
         "85100.00"
        ],
        [
         496,
         "Kelly Hello",
         "Jason",
         "Tony",
         "+64 9 5555500",
         "Arenales 2020",
         null,
         "Auckland  ",
         null,
         null,
         "New Zealand",
         1612,
         "110000.00"
        ]
       ],
       "datasetInfos": [],
       "dbfsResultPath": null,
       "isJsonSchema": true,
       "metadata": {},
       "overflow": false,
       "plotOptions": {
        "customPlotOptions": {},
        "displayType": "table",
        "pivotAggregation": null,
        "pivotColumns": null,
        "xColumns": null,
        "yColumns": null
       },
       "removedWidgets": [],
       "schema": [
        {
         "metadata": "{\"scale\":0}",
         "name": "customer_number",
         "type": "\"integer\""
        },
        {
         "metadata": "{\"scale\":0}",
         "name": "customer_name",
         "type": "\"string\""
        },
        {
         "metadata": "{\"scale\":0}",
         "name": "contact_last_name",
         "type": "\"string\""
        },
        {
         "metadata": "{\"scale\":0}",
         "name": "contact_first_name",
         "type": "\"string\""
        },
        {
         "metadata": "{\"scale\":0}",
         "name": "phone",
         "type": "\"string\""
        },
        {
         "metadata": "{\"scale\":0}",
         "name": "address_line1",
         "type": "\"string\""
        },
        {
         "metadata": "{\"scale\":0}",
         "name": "address_line2",
         "type": "\"string\""
        },
        {
         "metadata": "{\"scale\":0}",
         "name": "city",
         "type": "\"string\""
        },
        {
         "metadata": "{\"scale\":0}",
         "name": "state",
         "type": "\"string\""
        },
        {
         "metadata": "{\"scale\":0}",
         "name": "postal_code",
         "type": "\"string\""
        },
        {
         "metadata": "{\"scale\":0}",
         "name": "country",
         "type": "\"string\""
        },
        {
         "metadata": "{\"scale\":0}",
         "name": "sales_rep_employee_number",
         "type": "\"integer\""
        },
        {
         "metadata": "{\"scale\":2}",
         "name": "credit_limit",
         "type": "\"decimal(10,2)\""
        }
       ],
       "type": "table"
      }
     },
     "output_type": "display_data"
    }
   ],
   "source": [
    "# Exibindo os dados\n",
    "display(customers_jdbc)"
   ]
  },
  {
   "cell_type": "code",
   "execution_count": 0,
   "metadata": {
    "application/vnd.databricks.v1+cell": {
     "cellMetadata": {
      "byteLimit": 2048000,
      "rowLimit": 10000
     },
     "inputWidgets": {},
     "nuid": "192fa1c8-0a06-45bd-b2dd-f64348909a36",
     "showTitle": false,
     "title": ""
    }
   },
   "outputs": [],
   "source": [
    "columns_info = customers_jdbc.schema"
   ]
  },
  {
   "cell_type": "code",
   "execution_count": 0,
   "metadata": {
    "application/vnd.databricks.v1+cell": {
     "cellMetadata": {
      "byteLimit": 2048000,
      "rowLimit": 10000
     },
     "inputWidgets": {},
     "nuid": "8a66f147-b960-4aa7-9dd3-55964c8297fd",
     "showTitle": false,
     "title": ""
    }
   },
   "outputs": [
    {
     "output_type": "stream",
     "name": "stdout",
     "output_type": "stream",
     "text": [
      "Nome da Coluna: customer_number, Tipo: IntegerType()\nNome da Coluna: customer_name, Tipo: StringType()\nNome da Coluna: contact_last_name, Tipo: StringType()\nNome da Coluna: contact_first_name, Tipo: StringType()\nNome da Coluna: phone, Tipo: StringType()\nNome da Coluna: address_line1, Tipo: StringType()\nNome da Coluna: address_line2, Tipo: StringType()\nNome da Coluna: city, Tipo: StringType()\nNome da Coluna: state, Tipo: StringType()\nNome da Coluna: postal_code, Tipo: StringType()\nNome da Coluna: country, Tipo: StringType()\nNome da Coluna: sales_rep_employee_number, Tipo: IntegerType()\nNome da Coluna: credit_limit, Tipo: DecimalType(10,2)\n"
     ]
    }
   ],
   "source": [
    "# Exibindo informações das colunas\n",
    "for field in columns_info.fields:\n",
    "    print(f\"Nome da Coluna: {field.name}, Tipo: {field.dataType}\")"
   ]
  },
  {
   "cell_type": "markdown",
   "metadata": {
    "application/vnd.databricks.v1+cell": {
     "cellMetadata": {
      "byteLimit": 2048000,
      "rowLimit": 10000
     },
     "inputWidgets": {},
     "nuid": "53cdf0c7-6c33-4562-b95f-35d7db97ccd3",
     "showTitle": false,
     "title": ""
    }
   },
   "source": [
    "###Salvando as tabelas no formato de Parquet"
   ]
  },
  {
   "cell_type": "code",
   "execution_count": 0,
   "metadata": {
    "application/vnd.databricks.v1+cell": {
     "cellMetadata": {
      "byteLimit": 2048000,
      "rowLimit": 10000
     },
     "inputWidgets": {},
     "nuid": "1187de54-e433-432b-927a-1580a60984ce",
     "showTitle": false,
     "title": ""
    }
   },
   "outputs": [],
   "source": [
    "table_names = [\"customers\", \"employees\", \"orderdetails\", \"orders\", \"payments\", \"product_lines\", \"products\", \"offices\"]\n",
    "\n",
    "# Diretório onde os arquivos Parquet serão salvos\n",
    "output_directory = \"/dbfs/FileStore/tables/case_rnp\"\n",
    "\n",
    "# Loop para realizar a ingestão dos arquivos com o formart Parquet\n",
    "for table_name in table_names:\n",
    "    # Lendo os dados da tabela\n",
    "    df = spark.read.format(\"jdbc\") \\\n",
    "        .option(\"url\", url) \\\n",
    "        .option(\"dbtable\", table_name) \\\n",
    "        .option(\"user\", username) \\\n",
    "        .option(\"password\", password) \\\n",
    "        .load()\n",
    "    parquet_path = f\"{output_directory}/{table_name}.parquet\"\n",
    "    df.write.parquet(parquet_path)\n"
   ]
  },
  {
   "cell_type": "code",
   "execution_count": 0,
   "metadata": {
    "application/vnd.databricks.v1+cell": {
     "cellMetadata": {
      "byteLimit": 2048000,
      "rowLimit": 10000
     },
     "inputWidgets": {},
     "nuid": "b11454e3-4d0e-4a38-94af-6782c72dbe1f",
     "showTitle": false,
     "title": ""
    }
   },
   "outputs": [],
   "source": [
    "# Loop para realizar a leitura dos aquivos Parquet\n",
    "arquivos = dbutils.fs.ls(output_directory)\n",
    "parquet_files = [arquivo.path for arquivo in arquivos if arquivo.path.endswith(\".parquet\")]\n",
    "for arquivo in parquet_files:\n",
    "    print(arquivo)\n",
    "    table_name = parquet_file.split(\"/\")[-1].replace(\".parquet\", \"\")\n",
    "    df = spark.read.parquet(parquet_file)"
   ]
  },
  {
   "cell_type": "code",
   "execution_count": 0,
   "metadata": {
    "application/vnd.databricks.v1+cell": {
     "cellMetadata": {
      "byteLimit": 2048000,
      "rowLimit": 10000
     },
     "inputWidgets": {},
     "nuid": "adfe228b-eb78-40ca-b71c-47672bb85310",
     "showTitle": false,
     "title": ""
    }
   },
   "outputs": [
    {
     "output_type": "display_data",
     "data": {
      "text/html": [
       "<style scoped>\n",
       "  .table-result-container {\n",
       "    max-height: 300px;\n",
       "    overflow: auto;\n",
       "  }\n",
       "  table, th, td {\n",
       "    border: 1px solid black;\n",
       "    border-collapse: collapse;\n",
       "  }\n",
       "  th, td {\n",
       "    padding: 5px;\n",
       "  }\n",
       "  th {\n",
       "    text-align: left;\n",
       "  }\n",
       "</style><div class='table-result-container'><table class='table-result'><thead style='background-color: white'><tr><th>path</th><th>name</th><th>size</th><th>modificationTime</th></tr></thead><tbody><tr><td>dbfs:/dbfs/FileStore/tables/case_rnp/customers.parquet/</td><td>customers.parquet/</td><td>0</td><td>0</td></tr><tr><td>dbfs:/dbfs/FileStore/tables/case_rnp/employees.parquet/</td><td>employees.parquet/</td><td>0</td><td>0</td></tr><tr><td>dbfs:/dbfs/FileStore/tables/case_rnp/offices.parquet/</td><td>offices.parquet/</td><td>0</td><td>0</td></tr><tr><td>dbfs:/dbfs/FileStore/tables/case_rnp/orderdetails.parquet/</td><td>orderdetails.parquet/</td><td>0</td><td>0</td></tr><tr><td>dbfs:/dbfs/FileStore/tables/case_rnp/orders.parquet/</td><td>orders.parquet/</td><td>0</td><td>0</td></tr><tr><td>dbfs:/dbfs/FileStore/tables/case_rnp/payments.parquet/</td><td>payments.parquet/</td><td>0</td><td>0</td></tr><tr><td>dbfs:/dbfs/FileStore/tables/case_rnp/product_lines.parquet/</td><td>product_lines.parquet/</td><td>0</td><td>0</td></tr><tr><td>dbfs:/dbfs/FileStore/tables/case_rnp/products.parquet/</td><td>products.parquet/</td><td>0</td><td>0</td></tr></tbody></table></div>"
      ]
     },
     "metadata": {
      "application/vnd.databricks.v1+output": {
       "addedWidgets": {},
       "aggData": [],
       "aggError": "",
       "aggOverflow": false,
       "aggSchema": [],
       "aggSeriesLimitReached": false,
       "aggType": "",
       "arguments": {},
       "columnCustomDisplayInfos": {},
       "data": [
        [
         "dbfs:/dbfs/FileStore/tables/case_rnp/customers.parquet/",
         "customers.parquet/",
         0,
         0
        ],
        [
         "dbfs:/dbfs/FileStore/tables/case_rnp/employees.parquet/",
         "employees.parquet/",
         0,
         0
        ],
        [
         "dbfs:/dbfs/FileStore/tables/case_rnp/offices.parquet/",
         "offices.parquet/",
         0,
         0
        ],
        [
         "dbfs:/dbfs/FileStore/tables/case_rnp/orderdetails.parquet/",
         "orderdetails.parquet/",
         0,
         0
        ],
        [
         "dbfs:/dbfs/FileStore/tables/case_rnp/orders.parquet/",
         "orders.parquet/",
         0,
         0
        ],
        [
         "dbfs:/dbfs/FileStore/tables/case_rnp/payments.parquet/",
         "payments.parquet/",
         0,
         0
        ],
        [
         "dbfs:/dbfs/FileStore/tables/case_rnp/product_lines.parquet/",
         "product_lines.parquet/",
         0,
         0
        ],
        [
         "dbfs:/dbfs/FileStore/tables/case_rnp/products.parquet/",
         "products.parquet/",
         0,
         0
        ]
       ],
       "datasetInfos": [],
       "dbfsResultPath": null,
       "isJsonSchema": true,
       "metadata": {},
       "overflow": false,
       "plotOptions": {
        "customPlotOptions": {},
        "displayType": "table",
        "pivotAggregation": null,
        "pivotColumns": null,
        "xColumns": null,
        "yColumns": null
       },
       "removedWidgets": [],
       "schema": [
        {
         "metadata": "{}",
         "name": "path",
         "type": "\"string\""
        },
        {
         "metadata": "{}",
         "name": "name",
         "type": "\"string\""
        },
        {
         "metadata": "{}",
         "name": "size",
         "type": "\"long\""
        },
        {
         "metadata": "{}",
         "name": "modificationTime",
         "type": "\"long\""
        }
       ],
       "type": "table"
      }
     },
     "output_type": "display_data"
    }
   ],
   "source": [
    "# Path dos arquivos salvos no DBFS\n",
    "display(arquivos)"
   ]
  },
  {
   "cell_type": "markdown",
   "metadata": {
    "application/vnd.databricks.v1+cell": {
     "cellMetadata": {},
     "inputWidgets": {},
     "nuid": "cda1f87b-63aa-4add-aea9-43b06e6b7110",
     "showTitle": false,
     "title": ""
    }
   },
   "source": [
    "###Criando os DataFrames"
   ]
  },
  {
   "cell_type": "code",
   "execution_count": 0,
   "metadata": {
    "application/vnd.databricks.v1+cell": {
     "cellMetadata": {
      "byteLimit": 2048000,
      "rowLimit": 10000
     },
     "inputWidgets": {},
     "nuid": "5a61d466-b8a9-438b-aa33-70a4c7965b65",
     "showTitle": false,
     "title": ""
    }
   },
   "outputs": [],
   "source": [
    "customers = spark.read.parquet(\"dbfs:/dbfs/FileStore/tables/RNP/TABLES_RNP/customers.parquet/\")\n",
    "employees = spark.read.parquet(\"dbfs:/dbfs/FileStore/tables/RNP/TABLES_RNP/employees.parquet/\")\n",
    "offices = spark.read.parquet(\"dbfs:/dbfs/FileStore/tables/case_rnp/offices.parquet/\")\n",
    "orderdetails = spark.read.parquet(\"dbfs:/dbfs/FileStore/tables/RNP/TABLES_RNP/orderdetails.parquet/\")\n",
    "orders = spark.read.parquet(\"dbfs:/dbfs/FileStore/tables/RNP/TABLES_RNP/orders.parquet/\")\n",
    "payments = spark.read.parquet(\"dbfs:/dbfs/FileStore/tables/RNP/TABLES_RNP/payments.parquet/\")\n",
    "product_lines = spark.read.parquet(\"dbfs:/dbfs/FileStore/tables/RNP/TABLES_RNP/product_lines.parquet/\")\n",
    "products = spark.read.parquet(\"dbfs:/dbfs/FileStore/tables/RNP/TABLES_RNP/products.parquet/\")"
   ]
  },
  {
   "cell_type": "markdown",
   "metadata": {
    "application/vnd.databricks.v1+cell": {
     "cellMetadata": {},
     "inputWidgets": {},
     "nuid": "cf601d8c-418c-45a9-a6f0-b0f2a613a35e",
     "showTitle": false,
     "title": ""
    }
   },
   "source": [
    "###Criando as tabelas no Schema RNP"
   ]
  },
  {
   "cell_type": "code",
   "execution_count": 0,
   "metadata": {
    "application/vnd.databricks.v1+cell": {
     "cellMetadata": {
      "byteLimit": 2048000,
      "rowLimit": 10000
     },
     "inputWidgets": {},
     "nuid": "ee533555-7aaa-4d3c-ad79-9963ec316054",
     "showTitle": false,
     "title": ""
    }
   },
   "outputs": [],
   "source": [
    "# Lista de DataFrames\n",
    "dataframes = {\n",
    "    \"customers\": customers,\n",
    "    \"employees\": employees,\n",
    "    \"offices\": offices,\n",
    "    \"orderdetails\": orderdetails,\n",
    "    \"orders\": orders,\n",
    "    \"payments\": payments,\n",
    "    \"product_lines\": product_lines,\n",
    "    \"products\": products\n",
    "}"
   ]
  },
  {
   "cell_type": "code",
   "execution_count": 0,
   "metadata": {
    "application/vnd.databricks.v1+cell": {
     "cellMetadata": {
      "byteLimit": 2048000,
      "rowLimit": 10000
     },
     "inputWidgets": {},
     "nuid": "2cf9115f-0d3f-4758-b867-85f74ce229b5",
     "showTitle": false,
     "title": ""
    }
   },
   "outputs": [],
   "source": [
    "spark.conf.set(\"spark.sql.session.timeZone\", 'America/Sao_Paulo')"
   ]
  },
  {
   "cell_type": "code",
   "execution_count": 0,
   "metadata": {
    "application/vnd.databricks.v1+cell": {
     "cellMetadata": {
      "byteLimit": 2048000,
      "rowLimit": 10000
     },
     "inputWidgets": {},
     "nuid": "f47cccaf-f9d1-4502-822b-42bbe8805138",
     "showTitle": false,
     "title": ""
    }
   },
   "outputs": [
    {
     "output_type": "stream",
     "name": "stdout",
     "output_type": "stream",
     "text": [
      "Tabela Delta tb_customers criada com sucesso.\nTabela Delta tb_employees criada com sucesso.\nTabela Delta tb_offices criada com sucesso.\nTabela Delta tb_orderdetails criada com sucesso.\nTabela Delta tb_orders criada com sucesso.\nTabela Delta tb_payments criada com sucesso.\nTabela Delta tb_product_lines criada com sucesso.\nTabela Delta tb_products criada com sucesso.\n"
     ]
    }
   ],
   "source": [
    "# Criando Schema no Catalogo\n",
    "spark.sql(\"CREATE SCHEMA IF NOT EXISTS rnp\")\n",
    "spark.sql(\"USE SCHEMA rnp\")\n",
    "\n",
    "# Loop para salvar cada DataFrame como tabela com a coluna de ingestão\n",
    "for table_name, df in dataframes.items():\n",
    "    # Adicionando coluna de ts_ingestao_brt\n",
    "    df_with_timestamp = df.withColumn(\n",
    "        \"ts_ingestao_brt\", \n",
    "        F.from_utc_timestamp(F.current_timestamp(), 'America/Sao_Paulo')\n",
    "    ).withColumn(\"dt_ingestao_brt\", F.current_date())\n",
    "    \n",
    "    # Adicionando o prefixo 'tb_'\n",
    "    full_table_name = f\"tb_{table_name}\"\n",
    "    \n",
    "    # Definindo o caminho onde a tabela Delta será salva\n",
    "    delta_table_path = f\"/delta/rnp/{full_table_name}\"\n",
    "    \n",
    "    # Salvando a tabela em formato Delta\n",
    "    df_with_timestamp.write.format(\"delta\").mode(\"overwrite\").save(delta_table_path)\n",
    "\n",
    "    # Tabela criada com sucesso\n",
    "    print(f\"Tabela Delta {full_table_name} criada com sucesso.\")\n"
   ]
  },
  {
   "cell_type": "markdown",
   "metadata": {
    "application/vnd.databricks.v1+cell": {
     "cellMetadata": {},
     "inputWidgets": {},
     "nuid": "d249a863-a8c8-4c2d-bc71-b07b6623999e",
     "showTitle": false,
     "title": ""
    }
   },
   "source": [
    "#4. Criar as querys ou código utilizando a linguagem de sua preferência que respondam as seguintes perguntas:"
   ]
  },
  {
   "cell_type": "markdown",
   "metadata": {
    "application/vnd.databricks.v1+cell": {
     "cellMetadata": {},
     "inputWidgets": {},
     "nuid": "2dde205b-f729-4bc0-9554-9384c4a6a852",
     "showTitle": false,
     "title": ""
    }
   },
   "source": [
    "###Qual país possui a maior quantidade de itens cancelados?"
   ]
  },
  {
   "cell_type": "code",
   "execution_count": 0,
   "metadata": {
    "application/vnd.databricks.v1+cell": {
     "cellMetadata": {
      "byteLimit": 2048000,
      "rowLimit": 10000
     },
     "inputWidgets": {},
     "nuid": "265ea593-7911-4146-b185-2f4d0b7e20fb",
     "showTitle": false,
     "title": ""
    }
   },
   "outputs": [],
   "source": [
    "# Inicializa a Spark session\n",
    "spark = SparkSession.builder.appName(\"DeltaTableExample\").getOrCreate()\n",
    "\n",
    "# Tabelas\n",
    "order_details_df = spark.table(\"rnp.tb_orderdetails\")\n",
    "orders_df = spark.table(\"rnp.tb_orders\")\n",
    "customers_df = spark.table(\"rnp.tb_customers\")"
   ]
  },
  {
   "cell_type": "code",
   "execution_count": 0,
   "metadata": {
    "application/vnd.databricks.v1+cell": {
     "cellMetadata": {
      "byteLimit": 2048000,
      "rowLimit": 10000
     },
     "inputWidgets": {},
     "nuid": "486d4124-b434-4194-aa85-2ca759bab47a",
     "showTitle": false,
     "title": ""
    }
   },
   "outputs": [
    {
     "output_type": "display_data",
     "data": {
      "text/html": [
       "<style scoped>\n",
       "  .table-result-container {\n",
       "    max-height: 300px;\n",
       "    overflow: auto;\n",
       "  }\n",
       "  table, th, td {\n",
       "    border: 1px solid black;\n",
       "    border-collapse: collapse;\n",
       "  }\n",
       "  th, td {\n",
       "    padding: 5px;\n",
       "  }\n",
       "  th {\n",
       "    text-align: left;\n",
       "  }\n",
       "</style><div class='table-result-container'><table class='table-result'><thead style='background-color: white'><tr><th>country</th><th>canceled_items_count</th></tr></thead><tbody><tr><td>New Zealand</td><td>19</td></tr><tr><td>Sweden</td><td>16</td></tr><tr><td>Spain</td><td>16</td></tr><tr><td>USA</td><td>14</td></tr><tr><td>UK</td><td>14</td></tr></tbody></table></div>"
      ]
     },
     "metadata": {
      "application/vnd.databricks.v1+output": {
       "addedWidgets": {},
       "aggData": [],
       "aggError": "",
       "aggOverflow": false,
       "aggSchema": [],
       "aggSeriesLimitReached": false,
       "aggType": "",
       "arguments": {},
       "columnCustomDisplayInfos": {},
       "data": [
        [
         "New Zealand",
         19
        ],
        [
         "Sweden",
         16
        ],
        [
         "Spain",
         16
        ],
        [
         "USA",
         14
        ],
        [
         "UK",
         14
        ]
       ],
       "datasetInfos": [],
       "dbfsResultPath": null,
       "isJsonSchema": true,
       "metadata": {},
       "overflow": false,
       "plotOptions": {
        "customPlotOptions": {},
        "displayType": "table",
        "pivotAggregation": null,
        "pivotColumns": null,
        "xColumns": null,
        "yColumns": null
       },
       "removedWidgets": [],
       "schema": [
        {
         "metadata": "{\"scale\":0}",
         "name": "country",
         "type": "\"string\""
        },
        {
         "metadata": "{}",
         "name": "canceled_items_count",
         "type": "\"long\""
        }
       ],
       "type": "table"
      }
     },
     "output_type": "display_data"
    }
   ],
   "source": [
    "# Join Tabelas\n",
    "tb_canceled_items_per_country = (\n",
    "    order_details_df\n",
    "    .join(orders_df, order_details_df.order_number == orders_df.order_number)\n",
    "    .join(customers_df, orders_df.customer_number == customers_df.customer_number)\n",
    "    .where(orders_df.status == 'Cancelled')\n",
    "    .groupBy(customers_df.country)\n",
    "    .agg(F.count(order_details_df.quantity_ordered).alias(\"canceled_items_count\"))\n",
    "    .orderBy(F.desc(\"canceled_items_count\"))\n",
    ")\n",
    "\n",
    "display(vw_canceled_items_per_country)"
   ]
  },
  {
   "cell_type": "code",
   "execution_count": 0,
   "metadata": {
    "application/vnd.databricks.v1+cell": {
     "cellMetadata": {
      "byteLimit": 2048000,
      "rowLimit": 10000
     },
     "inputWidgets": {},
     "nuid": "92819bcb-a91c-483d-9283-d41713c608e7",
     "showTitle": false,
     "title": ""
    }
   },
   "outputs": [
    {
     "output_type": "stream",
     "name": "stdout",
     "output_type": "stream",
     "text": [
      "Tabela Delta 'tb_canceled_items_per_country' criada com sucesso.\n"
     ]
    }
   ],
   "source": [
    "# Definindo o caminho da tabela Delta no schema rnp\n",
    "delta_table_path = \"/delta/rnp/tb_canceled_items_per_country\"\n",
    "\n",
    "# Adicionando as colunas de ingestão\n",
    "tb_canceled_items_per_country_with_timestamp = tb_canceled_items_per_country.withColumn(\n",
    "    \"ts_ingestao_brt\", \n",
    "    F.from_utc_timestamp(F.current_timestamp(), 'America/Sao_Paulo')\n",
    ").withColumn(\"dt_ingestao_brt\", F.current_date())\n",
    "\n",
    "# Salvando o resultado como uma tabela Delta no esquema rnp\n",
    "tb_canceled_items_per_country_with_timestamp.write.format(\"delta\").option(\"mergeSchema\", \"true\").mode(\"overwrite\").save(delta_table_path)\n",
    "\n",
    "# Registrando a tabela no catálogo do Spark\n",
    "spark.sql(f\"CREATE TABLE IF NOT EXISTS rnp.tb_canceled_items_per_country USING DELTA LOCATION '{delta_table_path}'\")\n",
    "\n",
    "print(\"Tabela Delta 'tb_canceled_items_per_country' criada com sucesso.\")\n"
   ]
  },
  {
   "cell_type": "markdown",
   "metadata": {
    "application/vnd.databricks.v1+cell": {
     "cellMetadata": {},
     "inputWidgets": {},
     "nuid": "b5dc5ba9-c5a0-4c52-8f44-15ceda654915",
     "showTitle": false,
     "title": ""
    }
   },
   "source": [
    "###Resultado utilizando SQL"
   ]
  },
  {
   "cell_type": "code",
   "execution_count": 0,
   "metadata": {
    "application/vnd.databricks.v1+cell": {
     "cellMetadata": {
      "byteLimit": 2048000,
      "implicitDf": true,
      "rowLimit": 10000
     },
     "inputWidgets": {},
     "nuid": "3fa54a62-dd89-41be-bc05-6565159e4d0f",
     "showTitle": false,
     "title": ""
    }
   },
   "outputs": [
    {
     "output_type": "display_data",
     "data": {
      "text/html": [
       "<style scoped>\n",
       "  .table-result-container {\n",
       "    max-height: 300px;\n",
       "    overflow: auto;\n",
       "  }\n",
       "  table, th, td {\n",
       "    border: 1px solid black;\n",
       "    border-collapse: collapse;\n",
       "  }\n",
       "  th, td {\n",
       "    padding: 5px;\n",
       "  }\n",
       "  th {\n",
       "    text-align: left;\n",
       "  }\n",
       "</style><div class='table-result-container'><table class='table-result'><thead style='background-color: white'><tr><th>country</th><th>canceled_items_count</th><th>ts_ingestao_brt</th><th>dt_ingestao_brt</th></tr></thead><tbody><tr><td>New Zealand</td><td>19</td><td>2024-09-27T14:59:16.714-0300</td><td>2024-09-27</td></tr></tbody></table></div>"
      ]
     },
     "metadata": {
      "application/vnd.databricks.v1+output": {
       "addedWidgets": {},
       "aggData": [],
       "aggError": "",
       "aggOverflow": false,
       "aggSchema": [],
       "aggSeriesLimitReached": false,
       "aggType": "",
       "arguments": {},
       "columnCustomDisplayInfos": {},
       "data": [
        [
         "New Zealand",
         19,
         "2024-09-27T14:59:16.714-0300",
         "2024-09-27"
        ]
       ],
       "datasetInfos": [],
       "dbfsResultPath": null,
       "isJsonSchema": true,
       "metadata": {},
       "overflow": false,
       "plotOptions": {
        "customPlotOptions": {},
        "displayType": "table",
        "pivotAggregation": null,
        "pivotColumns": null,
        "xColumns": null,
        "yColumns": null
       },
       "removedWidgets": [],
       "schema": [
        {
         "metadata": "{\"scale\":0}",
         "name": "country",
         "type": "\"string\""
        },
        {
         "metadata": "{}",
         "name": "canceled_items_count",
         "type": "\"long\""
        },
        {
         "metadata": "{}",
         "name": "ts_ingestao_brt",
         "type": "\"timestamp\""
        },
        {
         "metadata": "{}",
         "name": "dt_ingestao_brt",
         "type": "\"date\""
        }
       ],
       "type": "table"
      }
     },
     "output_type": "display_data"
    }
   ],
   "source": [
    "%sql\n",
    "\n",
    "select * from rnp.tb_canceled_items_per_country limit 1"
   ]
  },
  {
   "cell_type": "markdown",
   "metadata": {
    "application/vnd.databricks.v1+cell": {
     "cellMetadata": {},
     "inputWidgets": {},
     "nuid": "e980bc9d-5e1d-47eb-ac00-d9efc7ef9df3",
     "showTitle": false,
     "title": ""
    }
   },
   "source": [
    "###Qual o faturamento da linha de produto mais vendido, considere os pedidos com status 'Shipped', cujo o pedido foi realizado no ano de 2005?"
   ]
  },
  {
   "cell_type": "code",
   "execution_count": 0,
   "metadata": {
    "application/vnd.databricks.v1+cell": {
     "cellMetadata": {
      "byteLimit": 2048000,
      "rowLimit": 10000
     },
     "inputWidgets": {},
     "nuid": "916653e9-0f2f-4548-af09-317190bf6c88",
     "showTitle": false,
     "title": ""
    }
   },
   "outputs": [],
   "source": [
    "# Tabelas\n",
    "order_details_df = spark.table(\"rnp.tb_orderdetails\")\n",
    "orders_df = spark.table(\"rnp.tb_orders\")\n",
    "products_df = spark.table(\"rnp.tb_products\")\n",
    "product_lines_df = spark.table(\"rnp.tb_product_lines\")"
   ]
  },
  {
   "cell_type": "code",
   "execution_count": 0,
   "metadata": {
    "application/vnd.databricks.v1+cell": {
     "cellMetadata": {
      "byteLimit": 2048000,
      "rowLimit": 10000
     },
     "inputWidgets": {},
     "nuid": "052c0df2-0f4a-4fb2-ae89-af8f6ff47cf7",
     "showTitle": false,
     "title": ""
    }
   },
   "outputs": [
    {
     "output_type": "display_data",
     "data": {
      "text/html": [
       "<style scoped>\n",
       "  .table-result-container {\n",
       "    max-height: 300px;\n",
       "    overflow: auto;\n",
       "  }\n",
       "  table, th, td {\n",
       "    border: 1px solid black;\n",
       "    border-collapse: collapse;\n",
       "  }\n",
       "  th, td {\n",
       "    padding: 5px;\n",
       "  }\n",
       "  th {\n",
       "    text-align: left;\n",
       "  }\n",
       "</style><div class='table-result-container'><table class='table-result'><thead style='background-color: white'><tr><th>product_line</th><th>total_revenue</th></tr></thead><tbody><tr><td>Classic Cars</td><td>603666.99</td></tr><tr><td>Vintage Cars</td><td>222510.70</td></tr><tr><td>Motorcycles</td><td>212684.55</td></tr><tr><td>Trucks and Buses</td><td>182231.45</td></tr><tr><td>Planes</td><td>109701.56</td></tr><tr><td>Ships</td><td>62989.19</td></tr><tr><td>Trains</td><td>22311.26</td></tr></tbody></table></div>"
      ]
     },
     "metadata": {
      "application/vnd.databricks.v1+output": {
       "addedWidgets": {},
       "aggData": [],
       "aggError": "",
       "aggOverflow": false,
       "aggSchema": [],
       "aggSeriesLimitReached": false,
       "aggType": "",
       "arguments": {},
       "columnCustomDisplayInfos": {},
       "data": [
        [
         "Classic Cars",
         "603666.99"
        ],
        [
         "Vintage Cars",
         "222510.70"
        ],
        [
         "Motorcycles",
         "212684.55"
        ],
        [
         "Trucks and Buses",
         "182231.45"
        ],
        [
         "Planes",
         "109701.56"
        ],
        [
         "Ships",
         "62989.19"
        ],
        [
         "Trains",
         "22311.26"
        ]
       ],
       "datasetInfos": [],
       "dbfsResultPath": null,
       "isJsonSchema": true,
       "metadata": {},
       "overflow": false,
       "plotOptions": {
        "customPlotOptions": {},
        "displayType": "table",
        "pivotAggregation": null,
        "pivotColumns": null,
        "xColumns": null,
        "yColumns": null
       },
       "removedWidgets": [],
       "schema": [
        {
         "metadata": "{\"scale\":0}",
         "name": "product_line",
         "type": "\"string\""
        },
        {
         "metadata": "{}",
         "name": "total_revenue",
         "type": "\"decimal(32,2)\""
        }
       ],
       "type": "table"
      }
     },
     "output_type": "display_data"
    }
   ],
   "source": [
    "# Join Tabelas\n",
    "tb_total_revenue_per_product_line = (\n",
    "    order_details_df\n",
    "    .join(orders_df, order_details_df.order_number == orders_df.order_number)\n",
    "    .join(products_df, order_details_df.product_code == products_df.product_code)\n",
    "    .join(product_lines_df, products_df.product_line == product_lines_df.product_line)\n",
    "    .where((orders_df.status == 'Shipped') & (F.year(orders_df.order_date) == 2005))\n",
    "    .groupBy(product_lines_df.product_line)\n",
    "    .agg(F.round(F.sum(order_details_df.quantity_ordered * order_details_df.price_each), 2).alias(\"total_revenue\"))\n",
    "    .orderBy(F.desc(\"total_revenue\"))\n",
    ")\n",
    "\n",
    "display(tb_total_revenue_per_product_line)"
   ]
  },
  {
   "cell_type": "code",
   "execution_count": 0,
   "metadata": {
    "application/vnd.databricks.v1+cell": {
     "cellMetadata": {
      "byteLimit": 2048000,
      "rowLimit": 10000
     },
     "inputWidgets": {},
     "nuid": "dd99d12d-27e4-4e00-b05d-f84c86218274",
     "showTitle": false,
     "title": ""
    }
   },
   "outputs": [
    {
     "output_type": "stream",
     "name": "stdout",
     "output_type": "stream",
     "text": [
      "Tabela Delta 'tb_total_revenue_per_product_line' criada com sucesso.\n"
     ]
    }
   ],
   "source": [
    "# Definindo o caminho da tabela Delta no schema rnp\n",
    "delta_table_path = \"/delta/rnp/tb_total_revenue_per_product_line\"\n",
    "\n",
    "# Adicionando as colunas de ingestão\n",
    "tb_total_revenue_per_product_line_with_timestamp = tb_total_revenue_per_product_line.withColumn(\n",
    "    \"ts_ingestao_brt\", \n",
    "    F.from_utc_timestamp(F.current_timestamp(), 'America/Sao_Paulo')\n",
    ").withColumn(\"dt_ingestao_brt\", F.current_date())\n",
    "\n",
    "# Salvando o resultado como uma tabela Delta no esquema rnp\n",
    "tb_total_revenue_per_product_line_with_timestamp.write.format(\"delta\").option(\"mergeSchema\", \"true\").mode(\"overwrite\").save(delta_table_path)\n",
    "\n",
    "# Registrando a tabela no catálogo do Spark\n",
    "spark.sql(f\"CREATE TABLE IF NOT EXISTS rnp.tb_total_revenue_per_product_line USING DELTA LOCATION '{delta_table_path}'\")\n",
    "\n",
    "print(\"Tabela Delta 'tb_total_revenue_per_product_line' criada com sucesso.\")\n"
   ]
  },
  {
   "cell_type": "markdown",
   "metadata": {
    "application/vnd.databricks.v1+cell": {
     "cellMetadata": {},
     "inputWidgets": {},
     "nuid": "ffcc1292-3a58-496a-a619-1f1f03155e8f",
     "showTitle": false,
     "title": ""
    }
   },
   "source": [
    "###Resultado utilizando SQL"
   ]
  },
  {
   "cell_type": "code",
   "execution_count": 0,
   "metadata": {
    "application/vnd.databricks.v1+cell": {
     "cellMetadata": {
      "byteLimit": 2048000,
      "implicitDf": true,
      "rowLimit": 10000
     },
     "inputWidgets": {},
     "nuid": "def6d808-428e-4915-882e-5f159a12756d",
     "showTitle": false,
     "title": ""
    }
   },
   "outputs": [
    {
     "output_type": "display_data",
     "data": {
      "text/html": [
       "<style scoped>\n",
       "  .table-result-container {\n",
       "    max-height: 300px;\n",
       "    overflow: auto;\n",
       "  }\n",
       "  table, th, td {\n",
       "    border: 1px solid black;\n",
       "    border-collapse: collapse;\n",
       "  }\n",
       "  th, td {\n",
       "    padding: 5px;\n",
       "  }\n",
       "  th {\n",
       "    text-align: left;\n",
       "  }\n",
       "</style><div class='table-result-container'><table class='table-result'><thead style='background-color: white'><tr><th>product_line</th><th>total_revenue</th></tr></thead><tbody><tr><td>Classic Cars</td><td>603666.99</td></tr></tbody></table></div>"
      ]
     },
     "metadata": {
      "application/vnd.databricks.v1+output": {
       "addedWidgets": {},
       "aggData": [],
       "aggError": "",
       "aggOverflow": false,
       "aggSchema": [],
       "aggSeriesLimitReached": false,
       "aggType": "",
       "arguments": {},
       "columnCustomDisplayInfos": {},
       "data": [
        [
         "Classic Cars",
         "603666.99"
        ]
       ],
       "datasetInfos": [],
       "dbfsResultPath": null,
       "isJsonSchema": true,
       "metadata": {},
       "overflow": false,
       "plotOptions": {
        "customPlotOptions": {},
        "displayType": "table",
        "pivotAggregation": null,
        "pivotColumns": null,
        "xColumns": null,
        "yColumns": null
       },
       "removedWidgets": [],
       "schema": [
        {
         "metadata": "{\"scale\":0}",
         "name": "product_line",
         "type": "\"string\""
        },
        {
         "metadata": "{}",
         "name": "total_revenue",
         "type": "\"decimal(32,2)\""
        }
       ],
       "type": "table"
      }
     },
     "output_type": "display_data"
    }
   ],
   "source": [
    "%sql\n",
    "\n",
    "select product_line,total_revenue from rnp.tb_total_revenue_per_product_line limit 1"
   ]
  },
  {
   "cell_type": "markdown",
   "metadata": {
    "application/vnd.databricks.v1+cell": {
     "cellMetadata": {},
     "inputWidgets": {},
     "nuid": "0222630a-8fc0-41a0-9808-4b054679b0ad",
     "showTitle": false,
     "title": ""
    }
   },
   "source": [
    "###Traga na consulta o Nome, sobrenome e e-mail dos vendedores do Japão, lembrando que o local-part do e-mail deve estar mascarado."
   ]
  },
  {
   "cell_type": "code",
   "execution_count": 0,
   "metadata": {
    "application/vnd.databricks.v1+cell": {
     "cellMetadata": {
      "byteLimit": 2048000,
      "rowLimit": 10000
     },
     "inputWidgets": {},
     "nuid": "fa48ef80-c93e-4bf9-aa44-b197a2580293",
     "showTitle": false,
     "title": ""
    }
   },
   "outputs": [],
   "source": [
    "# Tabelas\n",
    "employees_df = spark.table(\"rnp.tb_employees\")\n",
    "offices_df = spark.table(\"rnp.tb_offices\")"
   ]
  },
  {
   "cell_type": "code",
   "execution_count": 0,
   "metadata": {
    "application/vnd.databricks.v1+cell": {
     "cellMetadata": {
      "byteLimit": 2048000,
      "rowLimit": 10000
     },
     "inputWidgets": {},
     "nuid": "50dc8beb-d1bd-40f5-80ed-abf20df043d3",
     "showTitle": false,
     "title": ""
    }
   },
   "outputs": [
    {
     "output_type": "display_data",
     "data": {
      "text/html": [
       "<style scoped>\n",
       "  .table-result-container {\n",
       "    max-height: 300px;\n",
       "    overflow: auto;\n",
       "  }\n",
       "  table, th, td {\n",
       "    border: 1px solid black;\n",
       "    border-collapse: collapse;\n",
       "  }\n",
       "  th, td {\n",
       "    padding: 5px;\n",
       "  }\n",
       "  th {\n",
       "    text-align: left;\n",
       "  }\n",
       "</style><div class='table-result-container'><table class='table-result'><thead style='background-color: white'><tr><th>employee_name</th><th>email</th></tr></thead><tbody><tr><td>Mami Nishi</td><td>mn****@classicmodelcars.com</td></tr><tr><td>Yoshimi Kato</td><td>yk****@classicmodelcars.com</td></tr></tbody></table></div>"
      ]
     },
     "metadata": {
      "application/vnd.databricks.v1+output": {
       "addedWidgets": {},
       "aggData": [],
       "aggError": "",
       "aggOverflow": false,
       "aggSchema": [],
       "aggSeriesLimitReached": false,
       "aggType": "",
       "arguments": {},
       "columnCustomDisplayInfos": {},
       "data": [
        [
         "Mami Nishi",
         "mn****@classicmodelcars.com"
        ],
        [
         "Yoshimi Kato",
         "yk****@classicmodelcars.com"
        ]
       ],
       "datasetInfos": [],
       "dbfsResultPath": null,
       "isJsonSchema": true,
       "metadata": {},
       "overflow": false,
       "plotOptions": {
        "customPlotOptions": {},
        "displayType": "table",
        "pivotAggregation": null,
        "pivotColumns": null,
        "xColumns": null,
        "yColumns": null
       },
       "removedWidgets": [],
       "schema": [
        {
         "metadata": "{}",
         "name": "employee_name",
         "type": "\"string\""
        },
        {
         "metadata": "{}",
         "name": "email",
         "type": "\"string\""
        }
       ],
       "type": "table"
      }
     },
     "output_type": "display_data"
    }
   ],
   "source": [
    "# Join Tabelas\n",
    "tb_employees_japan = (\n",
    "    employees_df\n",
    "    .join(offices_df, employees_df.office_code == offices_df.office_code, \"left\")\n",
    "    .where(offices_df.country == \"Japan\")\n",
    "    .select(\n",
    "        F.concat(employees_df.first_name, F.lit(\" \"), employees_df.last_name).alias(\"employee_name\"),\n",
    "        # Usando F.expr para mascarar o e-mail\n",
    "        F.expr(\"concat(substring(email, 1, 2), '****', substring(email, instr(email, '@'), length(email)))\").alias(\"email\")\n",
    "    )\n",
    ")\n",
    "\n",
    "display(tb_employees_japan)"
   ]
  },
  {
   "cell_type": "code",
   "execution_count": 0,
   "metadata": {
    "application/vnd.databricks.v1+cell": {
     "cellMetadata": {
      "byteLimit": 2048000,
      "rowLimit": 10000
     },
     "inputWidgets": {},
     "nuid": "e1c0c277-f2b8-486d-8c95-f6e72b49af3b",
     "showTitle": false,
     "title": ""
    }
   },
   "outputs": [
    {
     "output_type": "stream",
     "name": "stdout",
     "output_type": "stream",
     "text": [
      "Tabela Delta 'tb_employees_japan' criada com sucesso.\n"
     ]
    }
   ],
   "source": [
    "# Definindo o caminho da tabela Delta no schema rnp\n",
    "delta_table_path = \"/delta/rnp/tb_employees_japan\"\n",
    "\n",
    "# Adicionando as colunas de ingestão\n",
    "tb_employees_japan_with_timestamp = tb_employees_japan.withColumn(\n",
    "    \"ts_ingestao_brt\", \n",
    "    F.from_utc_timestamp(F.current_timestamp(), 'America/Sao_Paulo')\n",
    ").withColumn(\"dt_ingestao_brt\", F.current_date())\n",
    "\n",
    "# Salvando o resultado como uma tabela Delta no esquema rnp\n",
    "tb_employees_japan_with_timestamp.write.format(\"delta\").option(\"mergeSchema\", \"true\").mode(\"overwrite\").save(delta_table_path)\n",
    "\n",
    "# Registrando a tabela no catálogo do Spark\n",
    "spark.sql(f\"CREATE TABLE IF NOT EXISTS rnp.tb_employees_japan USING DELTA LOCATION '{delta_table_path}'\")\n",
    "\n",
    "print(\"Tabela Delta 'tb_employees_japan' criada com sucesso.\")"
   ]
  },
  {
   "cell_type": "markdown",
   "metadata": {
    "application/vnd.databricks.v1+cell": {
     "cellMetadata": {},
     "inputWidgets": {},
     "nuid": "7d6cbb9f-dc50-4cae-abe5-e55f22cf2784",
     "showTitle": false,
     "title": ""
    }
   },
   "source": [
    "###Resultado utilizando SQL"
   ]
  },
  {
   "cell_type": "code",
   "execution_count": 0,
   "metadata": {
    "application/vnd.databricks.v1+cell": {
     "cellMetadata": {
      "byteLimit": 2048000,
      "implicitDf": true,
      "rowLimit": 10000
     },
     "inputWidgets": {},
     "nuid": "1d1b6dfd-0fa2-4a43-adc4-fc64b79dc8c9",
     "showTitle": false,
     "title": ""
    }
   },
   "outputs": [
    {
     "output_type": "display_data",
     "data": {
      "text/html": [
       "<style scoped>\n",
       "  .table-result-container {\n",
       "    max-height: 300px;\n",
       "    overflow: auto;\n",
       "  }\n",
       "  table, th, td {\n",
       "    border: 1px solid black;\n",
       "    border-collapse: collapse;\n",
       "  }\n",
       "  th, td {\n",
       "    padding: 5px;\n",
       "  }\n",
       "  th {\n",
       "    text-align: left;\n",
       "  }\n",
       "</style><div class='table-result-container'><table class='table-result'><thead style='background-color: white'><tr><th>employee_name</th><th>email</th><th>ts_ingestao_brt</th><th>dt_ingestao_brt</th></tr></thead><tbody><tr><td>Mami Nishi</td><td>mn****@classicmodelcars.com</td><td>2024-09-27T15:29:02.165-0300</td><td>2024-09-27</td></tr><tr><td>Yoshimi Kato</td><td>yk****@classicmodelcars.com</td><td>2024-09-27T15:29:02.165-0300</td><td>2024-09-27</td></tr></tbody></table></div>"
      ]
     },
     "metadata": {
      "application/vnd.databricks.v1+output": {
       "addedWidgets": {},
       "aggData": [],
       "aggError": "",
       "aggOverflow": false,
       "aggSchema": [],
       "aggSeriesLimitReached": false,
       "aggType": "",
       "arguments": {},
       "columnCustomDisplayInfos": {},
       "data": [
        [
         "Mami Nishi",
         "mn****@classicmodelcars.com",
         "2024-09-27T15:29:02.165-0300",
         "2024-09-27"
        ],
        [
         "Yoshimi Kato",
         "yk****@classicmodelcars.com",
         "2024-09-27T15:29:02.165-0300",
         "2024-09-27"
        ]
       ],
       "datasetInfos": [],
       "dbfsResultPath": null,
       "isJsonSchema": true,
       "metadata": {},
       "overflow": false,
       "plotOptions": {
        "customPlotOptions": {},
        "displayType": "table",
        "pivotAggregation": null,
        "pivotColumns": null,
        "xColumns": null,
        "yColumns": null
       },
       "removedWidgets": [],
       "schema": [
        {
         "metadata": "{}",
         "name": "employee_name",
         "type": "\"string\""
        },
        {
         "metadata": "{}",
         "name": "email",
         "type": "\"string\""
        },
        {
         "metadata": "{}",
         "name": "ts_ingestao_brt",
         "type": "\"timestamp\""
        },
        {
         "metadata": "{}",
         "name": "dt_ingestao_brt",
         "type": "\"date\""
        }
       ],
       "type": "table"
      }
     },
     "output_type": "display_data"
    }
   ],
   "source": [
    "%sql\n",
    "\n",
    "select * from rnp.tb_employees_japan"
   ]
  }
 ],
 "metadata": {
  "application/vnd.databricks.v1+notebook": {
   "dashboards": [],
   "environmentMetadata": null,
   "language": "python",
   "notebookMetadata": {
    "mostRecentlyExecutedCommandWithImplicitDF": {
     "commandId": 5398141475599,
     "dataframes": [
      "_sqldf"
     ]
    },
    "pythonIndentUnit": 4
   },
   "notebookName": "case-rnp",
   "widgets": {}
  }
 },
 "nbformat": 4,
 "nbformat_minor": 0
}
